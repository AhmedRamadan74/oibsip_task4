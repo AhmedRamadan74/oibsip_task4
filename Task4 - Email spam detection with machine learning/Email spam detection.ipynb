{
 "cells": [
  {
   "cell_type": "markdown",
   "id": "93d55ec6",
   "metadata": {
    "_cell_guid": "b1076dfc-b9ad-4769-8c92-a6c4dae69d19",
    "_uuid": "8f2839f25d086af736a60e9eeb907d3b93b6e0e5",
    "execution": {
     "iopub.execute_input": "2024-03-08T15:57:25.613122Z",
     "iopub.status.busy": "2024-03-08T15:57:25.612741Z",
     "iopub.status.idle": "2024-03-08T15:57:26.424515Z",
     "shell.execute_reply": "2024-03-08T15:57:26.423026Z"
    },
    "papermill": {
     "duration": 0.833527,
     "end_time": "2024-03-08T15:57:26.427708",
     "exception": false,
     "start_time": "2024-03-08T15:57:25.594181",
     "status": "completed"
    },
    "tags": []
   },
   "source": [
    "# About Data :\n",
    "\n",
    "The SMS Spam Collection is a set of SMS tagged messages that have been collected for SMS Spam research. It contains one set of SMS messages in English of 5,574 messages, tagged acording being ham (legitimate) or spam.\n",
    "\n",
    "[Link Dataset](https://www.kaggle.com/datasets/uciml/sms-spam-collection-dataset)\n",
    "\n",
    "---------------------------\n",
    "\n",
    "# The Aim of project :\n",
    "\n",
    "Detection if Email or sms is spam or not"
   ]
  },
  {
   "cell_type": "code",
   "execution_count": 1,
   "id": "b14b296f",
   "metadata": {
    "execution": {
     "iopub.execute_input": "2024-03-08T15:57:26.463005Z",
     "iopub.status.busy": "2024-03-08T15:57:26.462505Z",
     "iopub.status.idle": "2024-03-08T15:57:28.571838Z",
     "shell.execute_reply": "2024-03-08T15:57:28.570909Z"
    },
    "papermill": {
     "duration": 2.13069,
     "end_time": "2024-03-08T15:57:28.574794",
     "exception": false,
     "start_time": "2024-03-08T15:57:26.444104",
     "status": "completed"
    },
    "tags": []
   },
   "outputs": [],
   "source": [
    "import numpy as np\n",
    "import pandas as pd\n",
    "from sklearn.preprocessing import LabelEncoder\n",
    "import matplotlib.pyplot as plt\n",
    "import nltk\n",
    "import seaborn as sns\n",
    "from nltk.stem.porter import PorterStemmer\n",
    "from nltk.corpus import stopwords\n",
    "import string\n",
    "from wordcloud import WordCloud\n",
    "import warnings\n",
    "warnings.filterwarnings(\"ignore\")"
   ]
  },
  {
   "cell_type": "code",
   "execution_count": 83,
   "id": "8a9b94a0",
   "metadata": {
    "execution": {
     "iopub.execute_input": "2024-03-08T15:57:28.628661Z",
     "iopub.status.busy": "2024-03-08T15:57:28.627400Z",
     "iopub.status.idle": "2024-03-08T15:57:28.675801Z",
     "shell.execute_reply": "2024-03-08T15:57:28.674971Z"
    },
    "papermill": {
     "duration": 0.07752,
     "end_time": "2024-03-08T15:57:28.678759",
     "exception": false,
     "start_time": "2024-03-08T15:57:28.601239",
     "status": "completed"
    },
    "tags": []
   },
   "outputs": [
    {
     "data": {
      "text/html": [
       "<div>\n",
       "<style scoped>\n",
       "    .dataframe tbody tr th:only-of-type {\n",
       "        vertical-align: middle;\n",
       "    }\n",
       "\n",
       "    .dataframe tbody tr th {\n",
       "        vertical-align: top;\n",
       "    }\n",
       "\n",
       "    .dataframe thead th {\n",
       "        text-align: right;\n",
       "    }\n",
       "</style>\n",
       "<table border=\"1\" class=\"dataframe\">\n",
       "  <thead>\n",
       "    <tr style=\"text-align: right;\">\n",
       "      <th></th>\n",
       "      <th>v1</th>\n",
       "      <th>v2</th>\n",
       "      <th>Unnamed: 2</th>\n",
       "      <th>Unnamed: 3</th>\n",
       "      <th>Unnamed: 4</th>\n",
       "    </tr>\n",
       "  </thead>\n",
       "  <tbody>\n",
       "    <tr>\n",
       "      <th>0</th>\n",
       "      <td>ham</td>\n",
       "      <td>Go until jurong point, crazy.. Available only ...</td>\n",
       "      <td>NaN</td>\n",
       "      <td>NaN</td>\n",
       "      <td>NaN</td>\n",
       "    </tr>\n",
       "    <tr>\n",
       "      <th>1</th>\n",
       "      <td>ham</td>\n",
       "      <td>Ok lar... Joking wif u oni...</td>\n",
       "      <td>NaN</td>\n",
       "      <td>NaN</td>\n",
       "      <td>NaN</td>\n",
       "    </tr>\n",
       "    <tr>\n",
       "      <th>2</th>\n",
       "      <td>spam</td>\n",
       "      <td>Free entry in 2 a wkly comp to win FA Cup fina...</td>\n",
       "      <td>NaN</td>\n",
       "      <td>NaN</td>\n",
       "      <td>NaN</td>\n",
       "    </tr>\n",
       "    <tr>\n",
       "      <th>3</th>\n",
       "      <td>ham</td>\n",
       "      <td>U dun say so early hor... U c already then say...</td>\n",
       "      <td>NaN</td>\n",
       "      <td>NaN</td>\n",
       "      <td>NaN</td>\n",
       "    </tr>\n",
       "    <tr>\n",
       "      <th>4</th>\n",
       "      <td>ham</td>\n",
       "      <td>Nah I don't think he goes to usf, he lives aro...</td>\n",
       "      <td>NaN</td>\n",
       "      <td>NaN</td>\n",
       "      <td>NaN</td>\n",
       "    </tr>\n",
       "  </tbody>\n",
       "</table>\n",
       "</div>"
      ],
      "text/plain": [
       "     v1                                                 v2 Unnamed: 2  \\\n",
       "0   ham  Go until jurong point, crazy.. Available only ...        NaN   \n",
       "1   ham                      Ok lar... Joking wif u oni...        NaN   \n",
       "2  spam  Free entry in 2 a wkly comp to win FA Cup fina...        NaN   \n",
       "3   ham  U dun say so early hor... U c already then say...        NaN   \n",
       "4   ham  Nah I don't think he goes to usf, he lives aro...        NaN   \n",
       "\n",
       "  Unnamed: 3 Unnamed: 4  \n",
       "0        NaN        NaN  \n",
       "1        NaN        NaN  \n",
       "2        NaN        NaN  \n",
       "3        NaN        NaN  \n",
       "4        NaN        NaN  "
      ]
     },
     "execution_count": 83,
     "metadata": {},
     "output_type": "execute_result"
    }
   ],
   "source": [
    "df = pd.read_csv('spam.csv', encoding='latin1')\n",
    "df.head()"
   ]
  },
  {
   "cell_type": "code",
   "execution_count": 3,
   "id": "0009bf71",
   "metadata": {
    "execution": {
     "iopub.execute_input": "2024-03-08T15:57:28.720795Z",
     "iopub.status.busy": "2024-03-08T15:57:28.720422Z",
     "iopub.status.idle": "2024-03-08T15:57:28.726650Z",
     "shell.execute_reply": "2024-03-08T15:57:28.725595Z"
    },
    "papermill": {
     "duration": 0.026788,
     "end_time": "2024-03-08T15:57:28.729019",
     "exception": false,
     "start_time": "2024-03-08T15:57:28.702231",
     "status": "completed"
    },
    "tags": []
   },
   "outputs": [
    {
     "data": {
      "text/plain": [
       "(5572, 5)"
      ]
     },
     "execution_count": 3,
     "metadata": {},
     "output_type": "execute_result"
    }
   ],
   "source": [
    "#There are 5572 Messages\n",
    "df.shape"
   ]
  },
  {
   "cell_type": "markdown",
   "id": "cdf38569",
   "metadata": {
    "execution": {
     "iopub.execute_input": "2024-03-08T15:57:28.770762Z",
     "iopub.status.busy": "2024-03-08T15:57:28.769860Z",
     "iopub.status.idle": "2024-03-08T15:57:28.774759Z",
     "shell.execute_reply": "2024-03-08T15:57:28.773701Z"
    },
    "papermill": {
     "duration": 0.025329,
     "end_time": "2024-03-08T15:57:28.776956",
     "exception": false,
     "start_time": "2024-03-08T15:57:28.751627",
     "status": "completed"
    },
    "tags": []
   },
   "source": [
    "----------------\n",
    "**In this Notebook i will do:**\n",
    "\n",
    "1)[**Data Cleaning**](#section1)</br>\n",
    "\n",
    "2)[**EDA**](#section2)</br>\n",
    "\n",
    "3)[**Text Preprocessing**](#section3)</br>\n",
    "\n",
    "4)[**Model**](#section4)</br>\n",
    "\n",
    "5)[**Evaluation**](#section5)</br>\n",
    "\n",
    "6)[**Make Pipeline**](#section6)</br>"
   ]
  },
  {
   "cell_type": "markdown",
   "id": "dda037b1",
   "metadata": {
    "papermill": {
     "duration": 0.016243,
     "end_time": "2024-03-08T15:57:28.810057",
     "exception": false,
     "start_time": "2024-03-08T15:57:28.793814",
     "status": "completed"
    },
    "tags": []
   },
   "source": [
    "<a id=section1></a>\n",
    "\n",
    "-----------------------------------\n",
    "\n",
    "# Data Cleaning"
   ]
  },
  {
   "cell_type": "code",
   "execution_count": 4,
   "id": "90c9f5e2",
   "metadata": {
    "execution": {
     "iopub.execute_input": "2024-03-08T15:57:28.847295Z",
     "iopub.status.busy": "2024-03-08T15:57:28.846801Z",
     "iopub.status.idle": "2024-03-08T15:57:28.875760Z",
     "shell.execute_reply": "2024-03-08T15:57:28.874807Z"
    },
    "papermill": {
     "duration": 0.051553,
     "end_time": "2024-03-08T15:57:28.878235",
     "exception": false,
     "start_time": "2024-03-08T15:57:28.826682",
     "status": "completed"
    },
    "tags": []
   },
   "outputs": [
    {
     "name": "stdout",
     "output_type": "stream",
     "text": [
      "<class 'pandas.core.frame.DataFrame'>\n",
      "RangeIndex: 5572 entries, 0 to 5571\n",
      "Data columns (total 5 columns):\n",
      " #   Column      Non-Null Count  Dtype \n",
      "---  ------      --------------  ----- \n",
      " 0   v1          5572 non-null   object\n",
      " 1   v2          5572 non-null   object\n",
      " 2   Unnamed: 2  50 non-null     object\n",
      " 3   Unnamed: 3  12 non-null     object\n",
      " 4   Unnamed: 4  6 non-null      object\n",
      "dtypes: object(5)\n",
      "memory usage: 217.8+ KB\n"
     ]
    }
   ],
   "source": [
    "df.info()"
   ]
  },
  {
   "cell_type": "code",
   "execution_count": 84,
   "id": "95ce29a1",
   "metadata": {
    "execution": {
     "iopub.execute_input": "2024-03-08T15:57:28.916481Z",
     "iopub.status.busy": "2024-03-08T15:57:28.915719Z",
     "iopub.status.idle": "2024-03-08T15:57:28.929227Z",
     "shell.execute_reply": "2024-03-08T15:57:28.928103Z"
    },
    "papermill": {
     "duration": 0.035147,
     "end_time": "2024-03-08T15:57:28.931630",
     "exception": false,
     "start_time": "2024-03-08T15:57:28.896483",
     "status": "completed"
    },
    "tags": []
   },
   "outputs": [
    {
     "data": {
      "text/html": [
       "<div>\n",
       "<style scoped>\n",
       "    .dataframe tbody tr th:only-of-type {\n",
       "        vertical-align: middle;\n",
       "    }\n",
       "\n",
       "    .dataframe tbody tr th {\n",
       "        vertical-align: top;\n",
       "    }\n",
       "\n",
       "    .dataframe thead th {\n",
       "        text-align: right;\n",
       "    }\n",
       "</style>\n",
       "<table border=\"1\" class=\"dataframe\">\n",
       "  <thead>\n",
       "    <tr style=\"text-align: right;\">\n",
       "      <th></th>\n",
       "      <th>v1</th>\n",
       "      <th>v2</th>\n",
       "    </tr>\n",
       "  </thead>\n",
       "  <tbody>\n",
       "    <tr>\n",
       "      <th>0</th>\n",
       "      <td>ham</td>\n",
       "      <td>Go until jurong point, crazy.. Available only ...</td>\n",
       "    </tr>\n",
       "    <tr>\n",
       "      <th>1</th>\n",
       "      <td>ham</td>\n",
       "      <td>Ok lar... Joking wif u oni...</td>\n",
       "    </tr>\n",
       "    <tr>\n",
       "      <th>2</th>\n",
       "      <td>spam</td>\n",
       "      <td>Free entry in 2 a wkly comp to win FA Cup fina...</td>\n",
       "    </tr>\n",
       "    <tr>\n",
       "      <th>3</th>\n",
       "      <td>ham</td>\n",
       "      <td>U dun say so early hor... U c already then say...</td>\n",
       "    </tr>\n",
       "    <tr>\n",
       "      <th>4</th>\n",
       "      <td>ham</td>\n",
       "      <td>Nah I don't think he goes to usf, he lives aro...</td>\n",
       "    </tr>\n",
       "  </tbody>\n",
       "</table>\n",
       "</div>"
      ],
      "text/plain": [
       "     v1                                                 v2\n",
       "0   ham  Go until jurong point, crazy.. Available only ...\n",
       "1   ham                      Ok lar... Joking wif u oni...\n",
       "2  spam  Free entry in 2 a wkly comp to win FA Cup fina...\n",
       "3   ham  U dun say so early hor... U c already then say...\n",
       "4   ham  Nah I don't think he goes to usf, he lives aro..."
      ]
     },
     "execution_count": 84,
     "metadata": {},
     "output_type": "execute_result"
    }
   ],
   "source": [
    "# drop the 3 columns \n",
    "df = df.drop(['Unnamed: 2', 'Unnamed: 3', 'Unnamed: 4'], axis=1)\n",
    "df.head()"
   ]
  },
  {
   "cell_type": "code",
   "execution_count": 85,
   "id": "6698e478",
   "metadata": {
    "execution": {
     "iopub.execute_input": "2024-03-08T15:57:28.967360Z",
     "iopub.status.busy": "2024-03-08T15:57:28.966725Z",
     "iopub.status.idle": "2024-03-08T15:57:28.977442Z",
     "shell.execute_reply": "2024-03-08T15:57:28.976260Z"
    },
    "papermill": {
     "duration": 0.031143,
     "end_time": "2024-03-08T15:57:28.979721",
     "exception": false,
     "start_time": "2024-03-08T15:57:28.948578",
     "status": "completed"
    },
    "tags": []
   },
   "outputs": [
    {
     "data": {
      "text/html": [
       "<div>\n",
       "<style scoped>\n",
       "    .dataframe tbody tr th:only-of-type {\n",
       "        vertical-align: middle;\n",
       "    }\n",
       "\n",
       "    .dataframe tbody tr th {\n",
       "        vertical-align: top;\n",
       "    }\n",
       "\n",
       "    .dataframe thead th {\n",
       "        text-align: right;\n",
       "    }\n",
       "</style>\n",
       "<table border=\"1\" class=\"dataframe\">\n",
       "  <thead>\n",
       "    <tr style=\"text-align: right;\">\n",
       "      <th></th>\n",
       "      <th>target</th>\n",
       "      <th>text</th>\n",
       "    </tr>\n",
       "  </thead>\n",
       "  <tbody>\n",
       "    <tr>\n",
       "      <th>0</th>\n",
       "      <td>ham</td>\n",
       "      <td>Go until jurong point, crazy.. Available only ...</td>\n",
       "    </tr>\n",
       "    <tr>\n",
       "      <th>1</th>\n",
       "      <td>ham</td>\n",
       "      <td>Ok lar... Joking wif u oni...</td>\n",
       "    </tr>\n",
       "    <tr>\n",
       "      <th>2</th>\n",
       "      <td>spam</td>\n",
       "      <td>Free entry in 2 a wkly comp to win FA Cup fina...</td>\n",
       "    </tr>\n",
       "    <tr>\n",
       "      <th>3</th>\n",
       "      <td>ham</td>\n",
       "      <td>U dun say so early hor... U c already then say...</td>\n",
       "    </tr>\n",
       "    <tr>\n",
       "      <th>4</th>\n",
       "      <td>ham</td>\n",
       "      <td>Nah I don't think he goes to usf, he lives aro...</td>\n",
       "    </tr>\n",
       "  </tbody>\n",
       "</table>\n",
       "</div>"
      ],
      "text/plain": [
       "  target                                               text\n",
       "0    ham  Go until jurong point, crazy.. Available only ...\n",
       "1    ham                      Ok lar... Joking wif u oni...\n",
       "2   spam  Free entry in 2 a wkly comp to win FA Cup fina...\n",
       "3    ham  U dun say so early hor... U c already then say...\n",
       "4    ham  Nah I don't think he goes to usf, he lives aro..."
      ]
     },
     "execution_count": 85,
     "metadata": {},
     "output_type": "execute_result"
    }
   ],
   "source": [
    "#Renaming Columns\n",
    "df = df.rename({'v1': 'target', 'v2': 'text'}, axis =1)\n",
    "df.head()"
   ]
  },
  {
   "cell_type": "code",
   "execution_count": 86,
   "id": "6a2cc06e",
   "metadata": {
    "execution": {
     "iopub.execute_input": "2024-03-08T15:57:29.016465Z",
     "iopub.status.busy": "2024-03-08T15:57:29.015773Z",
     "iopub.status.idle": "2024-03-08T15:57:29.028280Z",
     "shell.execute_reply": "2024-03-08T15:57:29.027175Z"
    },
    "papermill": {
     "duration": 0.033144,
     "end_time": "2024-03-08T15:57:29.030535",
     "exception": false,
     "start_time": "2024-03-08T15:57:28.997391",
     "status": "completed"
    },
    "tags": []
   },
   "outputs": [
    {
     "data": {
      "text/html": [
       "<div>\n",
       "<style scoped>\n",
       "    .dataframe tbody tr th:only-of-type {\n",
       "        vertical-align: middle;\n",
       "    }\n",
       "\n",
       "    .dataframe tbody tr th {\n",
       "        vertical-align: top;\n",
       "    }\n",
       "\n",
       "    .dataframe thead th {\n",
       "        text-align: right;\n",
       "    }\n",
       "</style>\n",
       "<table border=\"1\" class=\"dataframe\">\n",
       "  <thead>\n",
       "    <tr style=\"text-align: right;\">\n",
       "      <th></th>\n",
       "      <th>target</th>\n",
       "      <th>text</th>\n",
       "    </tr>\n",
       "  </thead>\n",
       "  <tbody>\n",
       "    <tr>\n",
       "      <th>0</th>\n",
       "      <td>0</td>\n",
       "      <td>Go until jurong point, crazy.. Available only ...</td>\n",
       "    </tr>\n",
       "    <tr>\n",
       "      <th>1</th>\n",
       "      <td>0</td>\n",
       "      <td>Ok lar... Joking wif u oni...</td>\n",
       "    </tr>\n",
       "    <tr>\n",
       "      <th>2</th>\n",
       "      <td>1</td>\n",
       "      <td>Free entry in 2 a wkly comp to win FA Cup fina...</td>\n",
       "    </tr>\n",
       "    <tr>\n",
       "      <th>3</th>\n",
       "      <td>0</td>\n",
       "      <td>U dun say so early hor... U c already then say...</td>\n",
       "    </tr>\n",
       "    <tr>\n",
       "      <th>4</th>\n",
       "      <td>0</td>\n",
       "      <td>Nah I don't think he goes to usf, he lives aro...</td>\n",
       "    </tr>\n",
       "  </tbody>\n",
       "</table>\n",
       "</div>"
      ],
      "text/plain": [
       "   target                                               text\n",
       "0       0  Go until jurong point, crazy.. Available only ...\n",
       "1       0                      Ok lar... Joking wif u oni...\n",
       "2       1  Free entry in 2 a wkly comp to win FA Cup fina...\n",
       "3       0  U dun say so early hor... U c already then say...\n",
       "4       0  Nah I don't think he goes to usf, he lives aro..."
      ]
     },
     "execution_count": 86,
     "metadata": {},
     "output_type": "execute_result"
    }
   ],
   "source": [
    "def le(col):\n",
    "    labelencoder = LabelEncoder()\n",
    "    col = labelencoder.fit_transform(col)\n",
    "    return col\n",
    "df['target'] = le(df['target'])\n",
    "df.head()"
   ]
  },
  {
   "cell_type": "code",
   "execution_count": 8,
   "id": "69cbc181",
   "metadata": {
    "execution": {
     "iopub.execute_input": "2024-03-08T15:57:29.068275Z",
     "iopub.status.busy": "2024-03-08T15:57:29.067663Z",
     "iopub.status.idle": "2024-03-08T15:57:29.076708Z",
     "shell.execute_reply": "2024-03-08T15:57:29.075417Z"
    },
    "papermill": {
     "duration": 0.030629,
     "end_time": "2024-03-08T15:57:29.078799",
     "exception": false,
     "start_time": "2024-03-08T15:57:29.048170",
     "status": "completed"
    },
    "tags": []
   },
   "outputs": [
    {
     "data": {
      "text/plain": [
       "target    0\n",
       "text      0\n",
       "dtype: int64"
      ]
     },
     "execution_count": 8,
     "metadata": {},
     "output_type": "execute_result"
    }
   ],
   "source": [
    "#missing Values\n",
    "df.isna().sum()"
   ]
  },
  {
   "cell_type": "code",
   "execution_count": 9,
   "id": "eef9844e",
   "metadata": {
    "execution": {
     "iopub.execute_input": "2024-03-08T15:57:29.115690Z",
     "iopub.status.busy": "2024-03-08T15:57:29.115034Z",
     "iopub.status.idle": "2024-03-08T15:57:29.124964Z",
     "shell.execute_reply": "2024-03-08T15:57:29.123780Z"
    },
    "papermill": {
     "duration": 0.030756,
     "end_time": "2024-03-08T15:57:29.127035",
     "exception": false,
     "start_time": "2024-03-08T15:57:29.096279",
     "status": "completed"
    },
    "tags": []
   },
   "outputs": [
    {
     "data": {
      "text/plain": [
       "403"
      ]
     },
     "execution_count": 9,
     "metadata": {},
     "output_type": "execute_result"
    }
   ],
   "source": [
    "df.duplicated().sum()"
   ]
  },
  {
   "cell_type": "code",
   "execution_count": 10,
   "id": "57510b99",
   "metadata": {
    "execution": {
     "iopub.execute_input": "2024-03-08T15:57:29.163969Z",
     "iopub.status.busy": "2024-03-08T15:57:29.163313Z",
     "iopub.status.idle": "2024-03-08T15:57:29.177382Z",
     "shell.execute_reply": "2024-03-08T15:57:29.176118Z"
    },
    "papermill": {
     "duration": 0.035364,
     "end_time": "2024-03-08T15:57:29.179905",
     "exception": false,
     "start_time": "2024-03-08T15:57:29.144541",
     "status": "completed"
    },
    "tags": []
   },
   "outputs": [
    {
     "data": {
      "text/plain": [
       "0"
      ]
     },
     "execution_count": 10,
     "metadata": {},
     "output_type": "execute_result"
    }
   ],
   "source": [
    "#drop duplicates\n",
    "df.drop_duplicates(inplace=True)\n",
    "#resert index of rows after drop duplicates\n",
    "df.reset_index(inplace=True,drop=True)\n",
    "#check  again duplicates\n",
    "df.duplicated().sum()"
   ]
  },
  {
   "cell_type": "markdown",
   "id": "fc0a508b",
   "metadata": {
    "papermill": {
     "duration": 0.017314,
     "end_time": "2024-03-08T15:57:29.215000",
     "exception": false,
     "start_time": "2024-03-08T15:57:29.197686",
     "status": "completed"
    },
    "tags": []
   },
   "source": [
    "<a id=section2></a>\n",
    "\n",
    "-----------------------------------\n",
    "\n",
    "# EDA"
   ]
  },
  {
   "cell_type": "code",
   "execution_count": 11,
   "id": "050dd446",
   "metadata": {
    "execution": {
     "iopub.execute_input": "2024-03-08T15:57:29.253016Z",
     "iopub.status.busy": "2024-03-08T15:57:29.252638Z",
     "iopub.status.idle": "2024-03-08T15:57:29.262604Z",
     "shell.execute_reply": "2024-03-08T15:57:29.261415Z"
    },
    "papermill": {
     "duration": 0.031156,
     "end_time": "2024-03-08T15:57:29.264735",
     "exception": false,
     "start_time": "2024-03-08T15:57:29.233579",
     "status": "completed"
    },
    "tags": []
   },
   "outputs": [
    {
     "data": {
      "text/plain": [
       "target\n",
       "0    4516\n",
       "1     653\n",
       "Name: count, dtype: int64"
      ]
     },
     "execution_count": 11,
     "metadata": {},
     "output_type": "execute_result"
    }
   ],
   "source": [
    "df['target'].value_counts()"
   ]
  },
  {
   "cell_type": "code",
   "execution_count": 12,
   "id": "66c0fce2",
   "metadata": {
    "execution": {
     "iopub.execute_input": "2024-03-08T15:57:29.303528Z",
     "iopub.status.busy": "2024-03-08T15:57:29.302508Z",
     "iopub.status.idle": "2024-03-08T15:57:29.463440Z",
     "shell.execute_reply": "2024-03-08T15:57:29.462282Z"
    },
    "papermill": {
     "duration": 0.183912,
     "end_time": "2024-03-08T15:57:29.466438",
     "exception": false,
     "start_time": "2024-03-08T15:57:29.282526",
     "status": "completed"
    },
    "tags": []
   },
   "outputs": [
    {
     "data": {
      "image/png": "[encoded data removed]",
      "text/plain": [
       "<Figure size 640x480 with 1 Axes>"
      ]
     },
     "metadata": {},
     "output_type": "display_data"
    }
   ],
   "source": [
    "#data is imbalance\n",
    "plt.pie(df['target'].value_counts(), labels = ['ham', 'spam'], autopct = '%0.2f')\n",
    "plt.show()"
   ]
  },
  {
   "cell_type": "code",
   "execution_count": 13,
   "id": "e0ec20ff",
   "metadata": {
    "execution": {
     "iopub.execute_input": "2024-03-08T15:57:29.527385Z",
     "iopub.status.busy": "2024-03-08T15:57:29.526999Z",
     "iopub.status.idle": "2024-03-08T15:57:29.541102Z",
     "shell.execute_reply": "2024-03-08T15:57:29.539998Z"
    },
    "papermill": {
     "duration": 0.046694,
     "end_time": "2024-03-08T15:57:29.543513",
     "exception": false,
     "start_time": "2024-03-08T15:57:29.496819",
     "status": "completed"
    },
    "tags": []
   },
   "outputs": [
    {
     "data": {
      "text/html": [
       "<div>\n",
       "<style scoped>\n",
       "    .dataframe tbody tr th:only-of-type {\n",
       "        vertical-align: middle;\n",
       "    }\n",
       "\n",
       "    .dataframe tbody tr th {\n",
       "        vertical-align: top;\n",
       "    }\n",
       "\n",
       "    .dataframe thead th {\n",
       "        text-align: right;\n",
       "    }\n",
       "</style>\n",
       "<table border=\"1\" class=\"dataframe\">\n",
       "  <thead>\n",
       "    <tr style=\"text-align: right;\">\n",
       "      <th></th>\n",
       "      <th>target</th>\n",
       "      <th>text</th>\n",
       "      <th>num_char</th>\n",
       "    </tr>\n",
       "  </thead>\n",
       "  <tbody>\n",
       "    <tr>\n",
       "      <th>0</th>\n",
       "      <td>0</td>\n",
       "      <td>Go until jurong point, crazy.. Available only ...</td>\n",
       "      <td>111</td>\n",
       "    </tr>\n",
       "    <tr>\n",
       "      <th>1</th>\n",
       "      <td>0</td>\n",
       "      <td>Ok lar... Joking wif u oni...</td>\n",
       "      <td>29</td>\n",
       "    </tr>\n",
       "    <tr>\n",
       "      <th>2</th>\n",
       "      <td>1</td>\n",
       "      <td>Free entry in 2 a wkly comp to win FA Cup fina...</td>\n",
       "      <td>155</td>\n",
       "    </tr>\n",
       "    <tr>\n",
       "      <th>3</th>\n",
       "      <td>0</td>\n",
       "      <td>U dun say so early hor... U c already then say...</td>\n",
       "      <td>49</td>\n",
       "    </tr>\n",
       "    <tr>\n",
       "      <th>4</th>\n",
       "      <td>0</td>\n",
       "      <td>Nah I don't think he goes to usf, he lives aro...</td>\n",
       "      <td>61</td>\n",
       "    </tr>\n",
       "  </tbody>\n",
       "</table>\n",
       "</div>"
      ],
      "text/plain": [
       "   target                                               text  num_char\n",
       "0       0  Go until jurong point, crazy.. Available only ...       111\n",
       "1       0                      Ok lar... Joking wif u oni...        29\n",
       "2       1  Free entry in 2 a wkly comp to win FA Cup fina...       155\n",
       "3       0  U dun say so early hor... U c already then say...        49\n",
       "4       0  Nah I don't think he goes to usf, he lives aro...        61"
      ]
     },
     "execution_count": 13,
     "metadata": {},
     "output_type": "execute_result"
    }
   ],
   "source": [
    "#Lets now get word count sentence count and character count\n",
    "df['num_char'] =df['text'].apply(len)\n",
    "df.head()"
   ]
  },
  {
   "cell_type": "code",
   "execution_count": 15,
   "id": "17d60f85",
   "metadata": {
    "execution": {
     "iopub.execute_input": "2024-03-08T15:57:29.581807Z",
     "iopub.status.busy": "2024-03-08T15:57:29.580638Z",
     "iopub.status.idle": "2024-03-08T15:57:30.770955Z",
     "shell.execute_reply": "2024-03-08T15:57:30.769854Z"
    },
    "papermill": {
     "duration": 1.211636,
     "end_time": "2024-03-08T15:57:30.773169",
     "exception": false,
     "start_time": "2024-03-08T15:57:29.561533",
     "status": "completed"
    },
    "scrolled": false,
    "tags": []
   },
   "outputs": [
    {
     "data": {
      "text/html": [
       "<div>\n",
       "<style scoped>\n",
       "    .dataframe tbody tr th:only-of-type {\n",
       "        vertical-align: middle;\n",
       "    }\n",
       "\n",
       "    .dataframe tbody tr th {\n",
       "        vertical-align: top;\n",
       "    }\n",
       "\n",
       "    .dataframe thead th {\n",
       "        text-align: right;\n",
       "    }\n",
       "</style>\n",
       "<table border=\"1\" class=\"dataframe\">\n",
       "  <thead>\n",
       "    <tr style=\"text-align: right;\">\n",
       "      <th></th>\n",
       "      <th>target</th>\n",
       "      <th>text</th>\n",
       "      <th>num_char</th>\n",
       "      <th>num_words</th>\n",
       "    </tr>\n",
       "  </thead>\n",
       "  <tbody>\n",
       "    <tr>\n",
       "      <th>0</th>\n",
       "      <td>0</td>\n",
       "      <td>Go until jurong point, crazy.. Available only ...</td>\n",
       "      <td>111</td>\n",
       "      <td>24</td>\n",
       "    </tr>\n",
       "    <tr>\n",
       "      <th>1</th>\n",
       "      <td>0</td>\n",
       "      <td>Ok lar... Joking wif u oni...</td>\n",
       "      <td>29</td>\n",
       "      <td>8</td>\n",
       "    </tr>\n",
       "    <tr>\n",
       "      <th>2</th>\n",
       "      <td>1</td>\n",
       "      <td>Free entry in 2 a wkly comp to win FA Cup fina...</td>\n",
       "      <td>155</td>\n",
       "      <td>37</td>\n",
       "    </tr>\n",
       "    <tr>\n",
       "      <th>3</th>\n",
       "      <td>0</td>\n",
       "      <td>U dun say so early hor... U c already then say...</td>\n",
       "      <td>49</td>\n",
       "      <td>13</td>\n",
       "    </tr>\n",
       "    <tr>\n",
       "      <th>4</th>\n",
       "      <td>0</td>\n",
       "      <td>Nah I don't think he goes to usf, he lives aro...</td>\n",
       "      <td>61</td>\n",
       "      <td>15</td>\n",
       "    </tr>\n",
       "  </tbody>\n",
       "</table>\n",
       "</div>"
      ],
      "text/plain": [
       "   target                                               text  num_char  \\\n",
       "0       0  Go until jurong point, crazy.. Available only ...       111   \n",
       "1       0                      Ok lar... Joking wif u oni...        29   \n",
       "2       1  Free entry in 2 a wkly comp to win FA Cup fina...       155   \n",
       "3       0  U dun say so early hor... U c already then say...        49   \n",
       "4       0  Nah I don't think he goes to usf, he lives aro...        61   \n",
       "\n",
       "   num_words  \n",
       "0         24  \n",
       "1          8  \n",
       "2         37  \n",
       "3         13  \n",
       "4         15  "
      ]
     },
     "execution_count": 15,
     "metadata": {},
     "output_type": "execute_result"
    }
   ],
   "source": [
    "#num of words\n",
    "df['num_words']= df['text'].apply(lambda x:len(nltk.word_tokenize(x)))\n",
    "df.head()"
   ]
  },
  {
   "cell_type": "code",
   "execution_count": 16,
   "id": "38ada8de",
   "metadata": {
    "execution": {
     "iopub.execute_input": "2024-03-08T15:57:30.870123Z",
     "iopub.status.busy": "2024-03-08T15:57:30.869130Z",
     "iopub.status.idle": "2024-03-08T15:57:31.187356Z",
     "shell.execute_reply": "2024-03-08T15:57:31.186383Z"
    },
    "papermill": {
     "duration": 0.397748,
     "end_time": "2024-03-08T15:57:31.189796",
     "exception": false,
     "start_time": "2024-03-08T15:57:30.792048",
     "status": "completed"
    },
    "tags": []
   },
   "outputs": [
    {
     "data": {
      "text/html": [
       "<div>\n",
       "<style scoped>\n",
       "    .dataframe tbody tr th:only-of-type {\n",
       "        vertical-align: middle;\n",
       "    }\n",
       "\n",
       "    .dataframe tbody tr th {\n",
       "        vertical-align: top;\n",
       "    }\n",
       "\n",
       "    .dataframe thead th {\n",
       "        text-align: right;\n",
       "    }\n",
       "</style>\n",
       "<table border=\"1\" class=\"dataframe\">\n",
       "  <thead>\n",
       "    <tr style=\"text-align: right;\">\n",
       "      <th></th>\n",
       "      <th>target</th>\n",
       "      <th>text</th>\n",
       "      <th>num_char</th>\n",
       "      <th>num_words</th>\n",
       "      <th>num_sentences</th>\n",
       "    </tr>\n",
       "  </thead>\n",
       "  <tbody>\n",
       "    <tr>\n",
       "      <th>0</th>\n",
       "      <td>0</td>\n",
       "      <td>Go until jurong point, crazy.. Available only ...</td>\n",
       "      <td>111</td>\n",
       "      <td>24</td>\n",
       "      <td>2</td>\n",
       "    </tr>\n",
       "    <tr>\n",
       "      <th>1</th>\n",
       "      <td>0</td>\n",
       "      <td>Ok lar... Joking wif u oni...</td>\n",
       "      <td>29</td>\n",
       "      <td>8</td>\n",
       "      <td>2</td>\n",
       "    </tr>\n",
       "    <tr>\n",
       "      <th>2</th>\n",
       "      <td>1</td>\n",
       "      <td>Free entry in 2 a wkly comp to win FA Cup fina...</td>\n",
       "      <td>155</td>\n",
       "      <td>37</td>\n",
       "      <td>2</td>\n",
       "    </tr>\n",
       "    <tr>\n",
       "      <th>3</th>\n",
       "      <td>0</td>\n",
       "      <td>U dun say so early hor... U c already then say...</td>\n",
       "      <td>49</td>\n",
       "      <td>13</td>\n",
       "      <td>1</td>\n",
       "    </tr>\n",
       "    <tr>\n",
       "      <th>4</th>\n",
       "      <td>0</td>\n",
       "      <td>Nah I don't think he goes to usf, he lives aro...</td>\n",
       "      <td>61</td>\n",
       "      <td>15</td>\n",
       "      <td>1</td>\n",
       "    </tr>\n",
       "  </tbody>\n",
       "</table>\n",
       "</div>"
      ],
      "text/plain": [
       "   target                                               text  num_char  \\\n",
       "0       0  Go until jurong point, crazy.. Available only ...       111   \n",
       "1       0                      Ok lar... Joking wif u oni...        29   \n",
       "2       1  Free entry in 2 a wkly comp to win FA Cup fina...       155   \n",
       "3       0  U dun say so early hor... U c already then say...        49   \n",
       "4       0  Nah I don't think he goes to usf, he lives aro...        61   \n",
       "\n",
       "   num_words  num_sentences  \n",
       "0         24              2  \n",
       "1          8              2  \n",
       "2         37              2  \n",
       "3         13              1  \n",
       "4         15              1  "
      ]
     },
     "execution_count": 16,
     "metadata": {},
     "output_type": "execute_result"
    }
   ],
   "source": [
    "#num of sentences\n",
    "df['num_sentences']= df['text'].apply(lambda x:len(nltk.sent_tokenize(x)))\n",
    "df.head()"
   ]
  },
  {
   "cell_type": "code",
   "execution_count": 18,
   "id": "c2d80008",
   "metadata": {
    "execution": {
     "iopub.execute_input": "2024-03-08T15:57:31.229393Z",
     "iopub.status.busy": "2024-03-08T15:57:31.228281Z",
     "iopub.status.idle": "2024-03-08T15:57:31.252115Z",
     "shell.execute_reply": "2024-03-08T15:57:31.251063Z"
    },
    "papermill": {
     "duration": 0.046089,
     "end_time": "2024-03-08T15:57:31.254598",
     "exception": false,
     "start_time": "2024-03-08T15:57:31.208509",
     "status": "completed"
    },
    "tags": []
   },
   "outputs": [
    {
     "data": {
      "text/html": [
       "<div>\n",
       "<style scoped>\n",
       "    .dataframe tbody tr th:only-of-type {\n",
       "        vertical-align: middle;\n",
       "    }\n",
       "\n",
       "    .dataframe tbody tr th {\n",
       "        vertical-align: top;\n",
       "    }\n",
       "\n",
       "    .dataframe thead th {\n",
       "        text-align: right;\n",
       "    }\n",
       "</style>\n",
       "<table border=\"1\" class=\"dataframe\">\n",
       "  <thead>\n",
       "    <tr style=\"text-align: right;\">\n",
       "      <th></th>\n",
       "      <th>num_char</th>\n",
       "      <th>num_words</th>\n",
       "      <th>num_sentences</th>\n",
       "    </tr>\n",
       "  </thead>\n",
       "  <tbody>\n",
       "    <tr>\n",
       "      <th>count</th>\n",
       "      <td>5169.000000</td>\n",
       "      <td>5169.000000</td>\n",
       "      <td>5169.000000</td>\n",
       "    </tr>\n",
       "    <tr>\n",
       "      <th>mean</th>\n",
       "      <td>78.977945</td>\n",
       "      <td>18.455794</td>\n",
       "      <td>1.965564</td>\n",
       "    </tr>\n",
       "    <tr>\n",
       "      <th>std</th>\n",
       "      <td>58.236293</td>\n",
       "      <td>13.324758</td>\n",
       "      <td>1.448541</td>\n",
       "    </tr>\n",
       "    <tr>\n",
       "      <th>min</th>\n",
       "      <td>2.000000</td>\n",
       "      <td>1.000000</td>\n",
       "      <td>1.000000</td>\n",
       "    </tr>\n",
       "    <tr>\n",
       "      <th>25%</th>\n",
       "      <td>36.000000</td>\n",
       "      <td>9.000000</td>\n",
       "      <td>1.000000</td>\n",
       "    </tr>\n",
       "    <tr>\n",
       "      <th>50%</th>\n",
       "      <td>60.000000</td>\n",
       "      <td>15.000000</td>\n",
       "      <td>1.000000</td>\n",
       "    </tr>\n",
       "    <tr>\n",
       "      <th>75%</th>\n",
       "      <td>117.000000</td>\n",
       "      <td>26.000000</td>\n",
       "      <td>2.000000</td>\n",
       "    </tr>\n",
       "    <tr>\n",
       "      <th>max</th>\n",
       "      <td>910.000000</td>\n",
       "      <td>220.000000</td>\n",
       "      <td>38.000000</td>\n",
       "    </tr>\n",
       "  </tbody>\n",
       "</table>\n",
       "</div>"
      ],
      "text/plain": [
       "          num_char    num_words  num_sentences\n",
       "count  5169.000000  5169.000000    5169.000000\n",
       "mean     78.977945    18.455794       1.965564\n",
       "std      58.236293    13.324758       1.448541\n",
       "min       2.000000     1.000000       1.000000\n",
       "25%      36.000000     9.000000       1.000000\n",
       "50%      60.000000    15.000000       1.000000\n",
       "75%     117.000000    26.000000       2.000000\n",
       "max     910.000000   220.000000      38.000000"
      ]
     },
     "execution_count": 18,
     "metadata": {},
     "output_type": "execute_result"
    }
   ],
   "source": [
    "df[['num_char', 'num_words', 'num_sentences']].describe()"
   ]
  },
  {
   "cell_type": "code",
   "execution_count": 19,
   "id": "d89f626c",
   "metadata": {
    "execution": {
     "iopub.execute_input": "2024-03-08T15:57:31.294564Z",
     "iopub.status.busy": "2024-03-08T15:57:31.294162Z",
     "iopub.status.idle": "2024-03-08T15:57:31.313416Z",
     "shell.execute_reply": "2024-03-08T15:57:31.312642Z"
    },
    "papermill": {
     "duration": 0.042263,
     "end_time": "2024-03-08T15:57:31.315775",
     "exception": false,
     "start_time": "2024-03-08T15:57:31.273512",
     "status": "completed"
    },
    "tags": []
   },
   "outputs": [
    {
     "data": {
      "text/html": [
       "<div>\n",
       "<style scoped>\n",
       "    .dataframe tbody tr th:only-of-type {\n",
       "        vertical-align: middle;\n",
       "    }\n",
       "\n",
       "    .dataframe tbody tr th {\n",
       "        vertical-align: top;\n",
       "    }\n",
       "\n",
       "    .dataframe thead th {\n",
       "        text-align: right;\n",
       "    }\n",
       "</style>\n",
       "<table border=\"1\" class=\"dataframe\">\n",
       "  <thead>\n",
       "    <tr style=\"text-align: right;\">\n",
       "      <th></th>\n",
       "      <th>num_char</th>\n",
       "      <th>num_words</th>\n",
       "      <th>num_sentences</th>\n",
       "    </tr>\n",
       "  </thead>\n",
       "  <tbody>\n",
       "    <tr>\n",
       "      <th>count</th>\n",
       "      <td>4516.000000</td>\n",
       "      <td>4516.000000</td>\n",
       "      <td>4516.000000</td>\n",
       "    </tr>\n",
       "    <tr>\n",
       "      <th>mean</th>\n",
       "      <td>70.459256</td>\n",
       "      <td>17.123782</td>\n",
       "      <td>1.820195</td>\n",
       "    </tr>\n",
       "    <tr>\n",
       "      <th>std</th>\n",
       "      <td>56.358207</td>\n",
       "      <td>13.493970</td>\n",
       "      <td>1.383657</td>\n",
       "    </tr>\n",
       "    <tr>\n",
       "      <th>min</th>\n",
       "      <td>2.000000</td>\n",
       "      <td>1.000000</td>\n",
       "      <td>1.000000</td>\n",
       "    </tr>\n",
       "    <tr>\n",
       "      <th>25%</th>\n",
       "      <td>34.000000</td>\n",
       "      <td>8.000000</td>\n",
       "      <td>1.000000</td>\n",
       "    </tr>\n",
       "    <tr>\n",
       "      <th>50%</th>\n",
       "      <td>52.000000</td>\n",
       "      <td>13.000000</td>\n",
       "      <td>1.000000</td>\n",
       "    </tr>\n",
       "    <tr>\n",
       "      <th>75%</th>\n",
       "      <td>90.000000</td>\n",
       "      <td>22.000000</td>\n",
       "      <td>2.000000</td>\n",
       "    </tr>\n",
       "    <tr>\n",
       "      <th>max</th>\n",
       "      <td>910.000000</td>\n",
       "      <td>220.000000</td>\n",
       "      <td>38.000000</td>\n",
       "    </tr>\n",
       "  </tbody>\n",
       "</table>\n",
       "</div>"
      ],
      "text/plain": [
       "          num_char    num_words  num_sentences\n",
       "count  4516.000000  4516.000000    4516.000000\n",
       "mean     70.459256    17.123782       1.820195\n",
       "std      56.358207    13.493970       1.383657\n",
       "min       2.000000     1.000000       1.000000\n",
       "25%      34.000000     8.000000       1.000000\n",
       "50%      52.000000    13.000000       1.000000\n",
       "75%      90.000000    22.000000       2.000000\n",
       "max     910.000000   220.000000      38.000000"
      ]
     },
     "execution_count": 19,
     "metadata": {},
     "output_type": "execute_result"
    }
   ],
   "source": [
    "#ham\n",
    "df[df['target'] == 0][['num_char', 'num_words', 'num_sentences']].describe()"
   ]
  },
  {
   "cell_type": "code",
   "execution_count": 20,
   "id": "b4a8f0c8",
   "metadata": {
    "execution": {
     "iopub.execute_input": "2024-03-08T15:57:31.357382Z",
     "iopub.status.busy": "2024-03-08T15:57:31.356456Z",
     "iopub.status.idle": "2024-03-08T15:57:31.375092Z",
     "shell.execute_reply": "2024-03-08T15:57:31.374035Z"
    },
    "papermill": {
     "duration": 0.042053,
     "end_time": "2024-03-08T15:57:31.377489",
     "exception": false,
     "start_time": "2024-03-08T15:57:31.335436",
     "status": "completed"
    },
    "tags": []
   },
   "outputs": [
    {
     "data": {
      "text/html": [
       "<div>\n",
       "<style scoped>\n",
       "    .dataframe tbody tr th:only-of-type {\n",
       "        vertical-align: middle;\n",
       "    }\n",
       "\n",
       "    .dataframe tbody tr th {\n",
       "        vertical-align: top;\n",
       "    }\n",
       "\n",
       "    .dataframe thead th {\n",
       "        text-align: right;\n",
       "    }\n",
       "</style>\n",
       "<table border=\"1\" class=\"dataframe\">\n",
       "  <thead>\n",
       "    <tr style=\"text-align: right;\">\n",
       "      <th></th>\n",
       "      <th>num_char</th>\n",
       "      <th>num_words</th>\n",
       "      <th>num_sentences</th>\n",
       "    </tr>\n",
       "  </thead>\n",
       "  <tbody>\n",
       "    <tr>\n",
       "      <th>count</th>\n",
       "      <td>653.000000</td>\n",
       "      <td>653.000000</td>\n",
       "      <td>653.000000</td>\n",
       "    </tr>\n",
       "    <tr>\n",
       "      <th>mean</th>\n",
       "      <td>137.891271</td>\n",
       "      <td>27.667688</td>\n",
       "      <td>2.970904</td>\n",
       "    </tr>\n",
       "    <tr>\n",
       "      <th>std</th>\n",
       "      <td>30.137753</td>\n",
       "      <td>7.008418</td>\n",
       "      <td>1.488425</td>\n",
       "    </tr>\n",
       "    <tr>\n",
       "      <th>min</th>\n",
       "      <td>13.000000</td>\n",
       "      <td>2.000000</td>\n",
       "      <td>1.000000</td>\n",
       "    </tr>\n",
       "    <tr>\n",
       "      <th>25%</th>\n",
       "      <td>132.000000</td>\n",
       "      <td>25.000000</td>\n",
       "      <td>2.000000</td>\n",
       "    </tr>\n",
       "    <tr>\n",
       "      <th>50%</th>\n",
       "      <td>149.000000</td>\n",
       "      <td>29.000000</td>\n",
       "      <td>3.000000</td>\n",
       "    </tr>\n",
       "    <tr>\n",
       "      <th>75%</th>\n",
       "      <td>157.000000</td>\n",
       "      <td>32.000000</td>\n",
       "      <td>4.000000</td>\n",
       "    </tr>\n",
       "    <tr>\n",
       "      <th>max</th>\n",
       "      <td>224.000000</td>\n",
       "      <td>46.000000</td>\n",
       "      <td>9.000000</td>\n",
       "    </tr>\n",
       "  </tbody>\n",
       "</table>\n",
       "</div>"
      ],
      "text/plain": [
       "         num_char   num_words  num_sentences\n",
       "count  653.000000  653.000000     653.000000\n",
       "mean   137.891271   27.667688       2.970904\n",
       "std     30.137753    7.008418       1.488425\n",
       "min     13.000000    2.000000       1.000000\n",
       "25%    132.000000   25.000000       2.000000\n",
       "50%    149.000000   29.000000       3.000000\n",
       "75%    157.000000   32.000000       4.000000\n",
       "max    224.000000   46.000000       9.000000"
      ]
     },
     "execution_count": 20,
     "metadata": {},
     "output_type": "execute_result"
    }
   ],
   "source": [
    "#spam\n",
    "df[df['target'] == 1][['num_char', 'num_words', 'num_sentences']].describe()"
   ]
  },
  {
   "cell_type": "code",
   "execution_count": 21,
   "id": "fd0602b0",
   "metadata": {
    "execution": {
     "iopub.execute_input": "2024-03-08T15:57:31.417442Z",
     "iopub.status.busy": "2024-03-08T15:57:31.417036Z",
     "iopub.status.idle": "2024-03-08T15:57:31.913122Z",
     "shell.execute_reply": "2024-03-08T15:57:31.912117Z"
    },
    "papermill": {
     "duration": 0.519809,
     "end_time": "2024-03-08T15:57:31.916573",
     "exception": false,
     "start_time": "2024-03-08T15:57:31.396764",
     "status": "completed"
    },
    "tags": []
   },
   "outputs": [
    {
     "data": {
      "image/png": "[encoded data removed]",
      "text/plain": [
       "<Figure size 1200x600 with 1 Axes>"
      ]
     },
     "metadata": {},
     "output_type": "display_data"
    }
   ],
   "source": [
    "#for ham messages the average number of characters are less compared to spam\n",
    "plt.figure(figsize=(12,6))\n",
    "sns.histplot(df[df['target'] == 0]['num_char']) #ham\n",
    "sns.histplot(df[df['target'] == 1]['num_char'], color = 'red')#spam\n",
    "plt.show()"
   ]
  },
  {
   "cell_type": "code",
   "execution_count": 22,
   "id": "11f58586",
   "metadata": {
    "execution": {
     "iopub.execute_input": "2024-03-08T15:57:31.959151Z",
     "iopub.status.busy": "2024-03-08T15:57:31.958767Z",
     "iopub.status.idle": "2024-03-08T15:57:32.536294Z",
     "shell.execute_reply": "2024-03-08T15:57:32.535095Z"
    },
    "papermill": {
     "duration": 0.600956,
     "end_time": "2024-03-08T15:57:32.538942",
     "exception": false,
     "start_time": "2024-03-08T15:57:31.937986",
     "status": "completed"
    },
    "tags": []
   },
   "outputs": [
    {
     "data": {
      "image/png": "[encoded data removed]",
      "text/plain": [
       "<Figure size 1200x600 with 1 Axes>"
      ]
     },
     "metadata": {},
     "output_type": "display_data"
    }
   ],
   "source": [
    "plt.figure(figsize=(12,6))\n",
    "sns.histplot(df[df['target'] == 0]['num_words']) #ham\n",
    "sns.histplot(df[df['target'] == 1]['num_words'], color = 'red')#spam\n",
    "plt.show()"
   ]
  },
  {
   "cell_type": "code",
   "execution_count": 23,
   "id": "b2c2a977",
   "metadata": {
    "execution": {
     "iopub.execute_input": "2024-03-08T15:57:32.581234Z",
     "iopub.status.busy": "2024-03-08T15:57:32.580860Z",
     "iopub.status.idle": "2024-03-08T15:57:33.305591Z",
     "shell.execute_reply": "2024-03-08T15:57:33.304529Z"
    },
    "papermill": {
     "duration": 0.748399,
     "end_time": "2024-03-08T15:57:33.308114",
     "exception": false,
     "start_time": "2024-03-08T15:57:32.559715",
     "status": "completed"
    },
    "tags": []
   },
   "outputs": [
    {
     "data": {
      "image/png": "[encoded data removed]",
      "text/plain": [
       "<Figure size 1200x600 with 1 Axes>"
      ]
     },
     "metadata": {},
     "output_type": "display_data"
    }
   ],
   "source": [
    "plt.figure(figsize=(12,6))\n",
    "sns.histplot(df[df['target'] == 0]['num_sentences']) #ham\n",
    "sns.histplot(df[df['target'] == 1]['num_sentences'], color = 'red')#spam\n",
    "plt.show()"
   ]
  },
  {
   "cell_type": "code",
   "execution_count": 24,
   "id": "e612ab6c",
   "metadata": {
    "execution": {
     "iopub.execute_input": "2024-03-08T15:57:33.352018Z",
     "iopub.status.busy": "2024-03-08T15:57:33.351088Z",
     "iopub.status.idle": "2024-03-08T15:57:39.332896Z",
     "shell.execute_reply": "2024-03-08T15:57:39.331932Z"
    },
    "papermill": {
     "duration": 6.007744,
     "end_time": "2024-03-08T15:57:39.337299",
     "exception": false,
     "start_time": "2024-03-08T15:57:33.329555",
     "status": "completed"
    },
    "tags": []
   },
   "outputs": [
    {
     "data": {
      "text/plain": [
       "<seaborn.axisgrid.PairGrid at 0x19119894f90>"
      ]
     },
     "execution_count": 24,
     "metadata": {},
     "output_type": "execute_result"
    },
    {
     "data": {
      "image/png": "[encoded data removed]",
      "text/plain": [
       "<Figure size 808.875x750 with 12 Axes>"
      ]
     },
     "metadata": {},
     "output_type": "display_data"
    }
   ],
   "source": [
    "sns.pairplot(df, hue = 'target')"
   ]
  },
  {
   "cell_type": "code",
   "execution_count": 25,
   "id": "a39f068c",
   "metadata": {
    "execution": {
     "iopub.execute_input": "2024-03-08T15:57:39.384810Z",
     "iopub.status.busy": "2024-03-08T15:57:39.384398Z",
     "iopub.status.idle": "2024-03-08T15:57:39.742106Z",
     "shell.execute_reply": "2024-03-08T15:57:39.741215Z"
    },
    "papermill": {
     "duration": 0.38359,
     "end_time": "2024-03-08T15:57:39.744141",
     "exception": false,
     "start_time": "2024-03-08T15:57:39.360551",
     "status": "completed"
    },
    "tags": []
   },
   "outputs": [
    {
     "data": {
      "text/plain": [
       "<Axes: >"
      ]
     },
     "execution_count": 25,
     "metadata": {},
     "output_type": "execute_result"
    },
    {
     "data": {
      "image/png": "[encoded data removed]",
      "text/plain": [
       "<Figure size 640x480 with 2 Axes>"
      ]
     },
     "metadata": {},
     "output_type": "display_data"
    }
   ],
   "source": [
    "#coorelation\n",
    "#There is high co-relation between features arounf 0.63 to 0.97 so we will consider onlu one feature\n",
    "#We can choose num  characters becuase it has more variation with target compared to others\n",
    "sns.heatmap(df[['target', 'num_char', 'num_words', 'num_sentences']].corr(), annot = True)"
   ]
  },
  {
   "cell_type": "markdown",
   "id": "f9eec477",
   "metadata": {
    "papermill": {
     "duration": 0.023472,
     "end_time": "2024-03-08T15:57:39.790580",
     "exception": false,
     "start_time": "2024-03-08T15:57:39.767108",
     "status": "completed"
    },
    "tags": []
   },
   "source": [
    "<a id=section3></a>\n",
    "\n",
    "-----------------------------------\n",
    "\n",
    "# Data Preprocessing\n",
    "\n",
    "**In This process i will do:**\n",
    "- Lower case\n",
    "- Tokenization: it divides the sentence into words\n",
    "- Removing special characters\n",
    "- removing stopwords and punctuation\n",
    "- stemming"
   ]
  },
  {
   "cell_type": "code",
   "execution_count": 32,
   "id": "03f73231",
   "metadata": {
    "execution": {
     "iopub.execute_input": "2024-03-08T15:57:39.839533Z",
     "iopub.status.busy": "2024-03-08T15:57:39.839103Z",
     "iopub.status.idle": "2024-03-08T15:57:39.846216Z",
     "shell.execute_reply": "2024-03-08T15:57:39.844875Z"
    },
    "papermill": {
     "duration": 0.033749,
     "end_time": "2024-03-08T15:57:39.848411",
     "exception": false,
     "start_time": "2024-03-08T15:57:39.814662",
     "status": "completed"
    },
    "tags": []
   },
   "outputs": [
    {
     "data": {
      "text/plain": [
       "'hello how are you priyanshu? hope you doing fine! i like to do machine learning%'"
      ]
     },
     "execution_count": 32,
     "metadata": {},
     "output_type": "execute_result"
    }
   ],
   "source": [
    "# to convert text into lower case \n",
    "txt = 'HELLO HOW ARE YOU PRIYANSHU? Hope you doing fine! I like to do machine Learning%'\n",
    "txt = txt.lower()\n",
    "txt"
   ]
  },
  {
   "cell_type": "code",
   "execution_count": 33,
   "id": "e0fc4c6e",
   "metadata": {
    "execution": {
     "iopub.execute_input": "2024-03-08T15:57:39.895608Z",
     "iopub.status.busy": "2024-03-08T15:57:39.895163Z",
     "iopub.status.idle": "2024-03-08T15:57:39.902439Z",
     "shell.execute_reply": "2024-03-08T15:57:39.901463Z"
    },
    "papermill": {
     "duration": 0.03354,
     "end_time": "2024-03-08T15:57:39.904676",
     "exception": false,
     "start_time": "2024-03-08T15:57:39.871136",
     "status": "completed"
    },
    "tags": []
   },
   "outputs": [
    {
     "data": {
      "text/plain": [
       "['hello',\n",
       " 'how',\n",
       " 'are',\n",
       " 'you',\n",
       " 'priyanshu',\n",
       " '?',\n",
       " 'hope',\n",
       " 'you',\n",
       " 'doing',\n",
       " 'fine',\n",
       " '!',\n",
       " 'i',\n",
       " 'like',\n",
       " 'to',\n",
       " 'do',\n",
       " 'machine',\n",
       " 'learning',\n",
       " '%']"
      ]
     },
     "execution_count": 33,
     "metadata": {},
     "output_type": "execute_result"
    }
   ],
   "source": [
    "#Tokeniztion divides sentence into list\n",
    "txt = nltk.word_tokenize(txt)\n",
    "txt"
   ]
  },
  {
   "cell_type": "code",
   "execution_count": 34,
   "id": "194b2777",
   "metadata": {
    "execution": {
     "iopub.execute_input": "2024-03-08T15:57:39.953156Z",
     "iopub.status.busy": "2024-03-08T15:57:39.952742Z",
     "iopub.status.idle": "2024-03-08T15:57:39.960563Z",
     "shell.execute_reply": "2024-03-08T15:57:39.959414Z"
    },
    "papermill": {
     "duration": 0.035247,
     "end_time": "2024-03-08T15:57:39.963118",
     "exception": false,
     "start_time": "2024-03-08T15:57:39.927871",
     "status": "completed"
    },
    "tags": []
   },
   "outputs": [
    {
     "data": {
      "text/plain": [
       "['hello',\n",
       " 'how',\n",
       " 'are',\n",
       " 'you',\n",
       " 'priyanshu',\n",
       " 'hope',\n",
       " 'you',\n",
       " 'doing',\n",
       " 'fine',\n",
       " 'i',\n",
       " 'like',\n",
       " 'to',\n",
       " 'do',\n",
       " 'machine',\n",
       " 'learning']"
      ]
     },
     "execution_count": 34,
     "metadata": {},
     "output_type": "execute_result"
    }
   ],
   "source": [
    "## removing Special Characters this keeps only the alphabets and numeric \n",
    "x = []\n",
    "for i in txt:\n",
    "    if i.isalnum():\n",
    "        x.append(i)\n",
    "x"
   ]
  },
  {
   "cell_type": "code",
   "execution_count": 35,
   "id": "785014b5",
   "metadata": {
    "execution": {
     "iopub.execute_input": "2024-03-08T15:57:40.012058Z",
     "iopub.status.busy": "2024-03-08T15:57:40.011384Z",
     "iopub.status.idle": "2024-03-08T15:57:40.025571Z",
     "shell.execute_reply": "2024-03-08T15:57:40.024433Z"
    },
    "papermill": {
     "duration": 0.041083,
     "end_time": "2024-03-08T15:57:40.027745",
     "exception": false,
     "start_time": "2024-03-08T15:57:39.986662",
     "status": "completed"
    },
    "tags": []
   },
   "outputs": [
    {
     "data": {
      "text/plain": [
       "['hello', 'priyanshu', 'hope', 'fine', 'like', 'machine', 'learning']"
      ]
     },
     "execution_count": 35,
     "metadata": {},
     "output_type": "execute_result"
    }
   ],
   "source": [
    "# remove stopwords and punctuation:\n",
    "txt = x[:]  #so list are immutable \n",
    "x.clear()\n",
    "for i in txt:\n",
    "    if i not in stopwords.words('english') and i not in string.punctuation:\n",
    "        x.append(i)\n",
    "x"
   ]
  },
  {
   "cell_type": "code",
   "execution_count": 36,
   "id": "631be4e8",
   "metadata": {
    "execution": {
     "iopub.execute_input": "2024-03-08T15:57:40.076499Z",
     "iopub.status.busy": "2024-03-08T15:57:40.076077Z",
     "iopub.status.idle": "2024-03-08T15:57:40.083936Z",
     "shell.execute_reply": "2024-03-08T15:57:40.082725Z"
    },
    "papermill": {
     "duration": 0.034667,
     "end_time": "2024-03-08T15:57:40.086297",
     "exception": false,
     "start_time": "2024-03-08T15:57:40.051630",
     "status": "completed"
    },
    "tags": []
   },
   "outputs": [
    {
     "data": {
      "text/plain": [
       "['hello', 'priyanshu', 'hope', 'fine', 'like', 'machin', 'learn']"
      ]
     },
     "execution_count": 36,
     "metadata": {},
     "output_type": "execute_result"
    }
   ],
   "source": [
    "#Stemming makes dancer, dancing to danc\n",
    "txt = x[:]\n",
    "x.clear()\n",
    "for i in txt:\n",
    "    ps = PorterStemmer()\n",
    "    i = ps.stem(i)\n",
    "    x.append(i)\n",
    "x"
   ]
  },
  {
   "cell_type": "code",
   "execution_count": 37,
   "id": "40baf802",
   "metadata": {
    "execution": {
     "iopub.execute_input": "2024-03-08T15:57:40.135618Z",
     "iopub.status.busy": "2024-03-08T15:57:40.135221Z",
     "iopub.status.idle": "2024-03-08T15:57:40.142238Z",
     "shell.execute_reply": "2024-03-08T15:57:40.141005Z"
    },
    "papermill": {
     "duration": 0.034978,
     "end_time": "2024-03-08T15:57:40.144521",
     "exception": false,
     "start_time": "2024-03-08T15:57:40.109543",
     "status": "completed"
    },
    "tags": []
   },
   "outputs": [],
   "source": [
    "#Lets Create the Function\n",
    "def tranform_text(text):\n",
    "    text = text.lower()  #lower case\n",
    "    text = nltk.word_tokenize(text)  # tokenization\n",
    "    \n",
    "    # removing Special Characters\n",
    "    y = []\n",
    "    for i in text:\n",
    "        if i.isalnum():\n",
    "            y.append(i)\n",
    "    text = y[:]\n",
    "    y.clear()\n",
    "    \n",
    "    # remove stopwords and punctuation:\n",
    "    for i in text:\n",
    "        if i not in stopwords.words('english') and i not in string.punctuation:\n",
    "            y.append(i)\n",
    "    text = y[:]\n",
    "    y.clear()\n",
    "    \n",
    "    #Stemming\n",
    "    for i in text:\n",
    "        ps = PorterStemmer()\n",
    "        y.append(ps.stem(i))\n",
    "    return \" \".join(y)"
   ]
  },
  {
   "cell_type": "code",
   "execution_count": 38,
   "id": "5ac07e33",
   "metadata": {
    "execution": {
     "iopub.execute_input": "2024-03-08T15:57:40.193573Z",
     "iopub.status.busy": "2024-03-08T15:57:40.193172Z",
     "iopub.status.idle": "2024-03-08T15:57:40.202858Z",
     "shell.execute_reply": "2024-03-08T15:57:40.201653Z"
    },
    "papermill": {
     "duration": 0.037157,
     "end_time": "2024-03-08T15:57:40.205282",
     "exception": false,
     "start_time": "2024-03-08T15:57:40.168125",
     "status": "completed"
    },
    "tags": []
   },
   "outputs": [
    {
     "data": {
      "text/plain": [
       "'hello priyanshu hope fine like machin learn'"
      ]
     },
     "execution_count": 38,
     "metadata": {},
     "output_type": "execute_result"
    }
   ],
   "source": [
    "tranform_text('HELLO HOW ARE YOU PRIYANSHU? Hope you doing fine! I like to do machine Learning%')"
   ]
  },
  {
   "cell_type": "code",
   "execution_count": 40,
   "id": "f5bf079f",
   "metadata": {
    "execution": {
     "iopub.execute_input": "2024-03-08T15:57:40.254064Z",
     "iopub.status.busy": "2024-03-08T15:57:40.253647Z",
     "iopub.status.idle": "2024-03-08T15:57:52.202090Z",
     "shell.execute_reply": "2024-03-08T15:57:52.200838Z"
    },
    "papermill": {
     "duration": 11.975626,
     "end_time": "2024-03-08T15:57:52.204450",
     "exception": false,
     "start_time": "2024-03-08T15:57:40.228824",
     "status": "completed"
    },
    "tags": []
   },
   "outputs": [
    {
     "data": {
      "text/html": [
       "<div>\n",
       "<style scoped>\n",
       "    .dataframe tbody tr th:only-of-type {\n",
       "        vertical-align: middle;\n",
       "    }\n",
       "\n",
       "    .dataframe tbody tr th {\n",
       "        vertical-align: top;\n",
       "    }\n",
       "\n",
       "    .dataframe thead th {\n",
       "        text-align: right;\n",
       "    }\n",
       "</style>\n",
       "<table border=\"1\" class=\"dataframe\">\n",
       "  <thead>\n",
       "    <tr style=\"text-align: right;\">\n",
       "      <th></th>\n",
       "      <th>target</th>\n",
       "      <th>text</th>\n",
       "      <th>num_char</th>\n",
       "      <th>num_words</th>\n",
       "      <th>num_sentences</th>\n",
       "      <th>tranformed_text</th>\n",
       "    </tr>\n",
       "  </thead>\n",
       "  <tbody>\n",
       "    <tr>\n",
       "      <th>0</th>\n",
       "      <td>0</td>\n",
       "      <td>Go until jurong point, crazy.. Available only ...</td>\n",
       "      <td>111</td>\n",
       "      <td>24</td>\n",
       "      <td>2</td>\n",
       "      <td>go jurong point crazi avail bugi n great world...</td>\n",
       "    </tr>\n",
       "    <tr>\n",
       "      <th>1</th>\n",
       "      <td>0</td>\n",
       "      <td>Ok lar... Joking wif u oni...</td>\n",
       "      <td>29</td>\n",
       "      <td>8</td>\n",
       "      <td>2</td>\n",
       "      <td>ok lar joke wif u oni</td>\n",
       "    </tr>\n",
       "    <tr>\n",
       "      <th>2</th>\n",
       "      <td>1</td>\n",
       "      <td>Free entry in 2 a wkly comp to win FA Cup fina...</td>\n",
       "      <td>155</td>\n",
       "      <td>37</td>\n",
       "      <td>2</td>\n",
       "      <td>free entri 2 wkli comp win fa cup final tkt 21...</td>\n",
       "    </tr>\n",
       "    <tr>\n",
       "      <th>3</th>\n",
       "      <td>0</td>\n",
       "      <td>U dun say so early hor... U c already then say...</td>\n",
       "      <td>49</td>\n",
       "      <td>13</td>\n",
       "      <td>1</td>\n",
       "      <td>u dun say earli hor u c alreadi say</td>\n",
       "    </tr>\n",
       "    <tr>\n",
       "      <th>4</th>\n",
       "      <td>0</td>\n",
       "      <td>Nah I don't think he goes to usf, he lives aro...</td>\n",
       "      <td>61</td>\n",
       "      <td>15</td>\n",
       "      <td>1</td>\n",
       "      <td>nah think goe usf live around though</td>\n",
       "    </tr>\n",
       "  </tbody>\n",
       "</table>\n",
       "</div>"
      ],
      "text/plain": [
       "   target                                               text  num_char  \\\n",
       "0       0  Go until jurong point, crazy.. Available only ...       111   \n",
       "1       0                      Ok lar... Joking wif u oni...        29   \n",
       "2       1  Free entry in 2 a wkly comp to win FA Cup fina...       155   \n",
       "3       0  U dun say so early hor... U c already then say...        49   \n",
       "4       0  Nah I don't think he goes to usf, he lives aro...        61   \n",
       "\n",
       "   num_words  num_sentences                                    tranformed_text  \n",
       "0         24              2  go jurong point crazi avail bugi n great world...  \n",
       "1          8              2                              ok lar joke wif u oni  \n",
       "2         37              2  free entri 2 wkli comp win fa cup final tkt 21...  \n",
       "3         13              1                u dun say earli hor u c alreadi say  \n",
       "4         15              1               nah think goe usf live around though  "
      ]
     },
     "execution_count": 40,
     "metadata": {},
     "output_type": "execute_result"
    }
   ],
   "source": [
    "df['tranformed_text'] = df['text'].apply(tranform_text)\n",
    "df.head()"
   ]
  },
  {
   "cell_type": "code",
   "execution_count": 41,
   "id": "e90a12f3",
   "metadata": {
    "execution": {
     "iopub.execute_input": "2024-03-08T15:57:52.253497Z",
     "iopub.status.busy": "2024-03-08T15:57:52.253104Z",
     "iopub.status.idle": "2024-03-08T15:57:53.236407Z",
     "shell.execute_reply": "2024-03-08T15:57:53.235157Z"
    },
    "papermill": {
     "duration": 1.011829,
     "end_time": "2024-03-08T15:57:53.240026",
     "exception": false,
     "start_time": "2024-03-08T15:57:52.228197",
     "status": "completed"
    },
    "tags": []
   },
   "outputs": [
    {
     "data": {
      "text/plain": [
       "<matplotlib.image.AxesImage at 0x1911c41b950>"
      ]
     },
     "execution_count": 41,
     "metadata": {},
     "output_type": "execute_result"
    },
    {
     "data": {
      "image/png": "[encoded data removed]",
      "text/plain": [
       "<Figure size 640x480 with 1 Axes>"
      ]
     },
     "metadata": {},
     "output_type": "display_data"
    }
   ],
   "source": [
    "# Word cloud of spam messages it shows the important words in text\n",
    "wc = WordCloud(width = 500, height=500, min_font_size=10, background_color = 'white')\n",
    "spam_wordcloud = wc.generate(df[df['target'] ==1]['tranformed_text'].str.cat(sep=\" \"))\n",
    "plt.imshow(spam_wordcloud)"
   ]
  },
  {
   "cell_type": "code",
   "execution_count": 42,
   "id": "ed0112de",
   "metadata": {
    "execution": {
     "iopub.execute_input": "2024-03-08T15:57:53.294106Z",
     "iopub.status.busy": "2024-03-08T15:57:53.293414Z",
     "iopub.status.idle": "2024-03-08T15:57:54.560220Z",
     "shell.execute_reply": "2024-03-08T15:57:54.559353Z"
    },
    "papermill": {
     "duration": 1.297303,
     "end_time": "2024-03-08T15:57:54.563670",
     "exception": false,
     "start_time": "2024-03-08T15:57:53.266367",
     "status": "completed"
    },
    "tags": []
   },
   "outputs": [
    {
     "data": {
      "text/plain": [
       "<matplotlib.image.AxesImage at 0x1911c16a1d0>"
      ]
     },
     "execution_count": 42,
     "metadata": {},
     "output_type": "execute_result"
    },
    {
     "data": {
      "image/png": "[encoded data removed]",
      "text/plain": [
       "<Figure size 640x480 with 1 Axes>"
      ]
     },
     "metadata": {},
     "output_type": "display_data"
    }
   ],
   "source": [
    "# Word cloud of ham messages it shows the important words in text\n",
    "wc = WordCloud(width = 500, height=500, min_font_size=10, background_color = 'white')\n",
    "ham_wordcloud = wc.generate(df[df['target'] ==0]['tranformed_text'].str.cat(sep=\" \"))\n",
    "plt.imshow(ham_wordcloud)"
   ]
  },
  {
   "cell_type": "code",
   "execution_count": 43,
   "id": "d229fba6",
   "metadata": {
    "execution": {
     "iopub.execute_input": "2024-03-08T15:57:54.623356Z",
     "iopub.status.busy": "2024-03-08T15:57:54.622470Z",
     "iopub.status.idle": "2024-03-08T15:57:54.632197Z",
     "shell.execute_reply": "2024-03-08T15:57:54.631405Z"
    },
    "papermill": {
     "duration": 0.042467,
     "end_time": "2024-03-08T15:57:54.634317",
     "exception": false,
     "start_time": "2024-03-08T15:57:54.591850",
     "status": "completed"
    },
    "tags": []
   },
   "outputs": [
    {
     "data": {
      "text/plain": [
       "9939"
      ]
     },
     "execution_count": 43,
     "metadata": {},
     "output_type": "execute_result"
    }
   ],
   "source": [
    "#lets get top 30 words in sapm messages\n",
    "spam_corpus = []\n",
    "for msg in df[df['target']==1]['tranformed_text'].tolist():\n",
    "    for word in msg.split():\n",
    "        spam_corpus.append(word)\n",
    "len(spam_corpus)"
   ]
  },
  {
   "cell_type": "code",
   "execution_count": 44,
   "id": "6d288918",
   "metadata": {
    "execution": {
     "iopub.execute_input": "2024-03-08T15:57:54.695230Z",
     "iopub.status.busy": "2024-03-08T15:57:54.694559Z",
     "iopub.status.idle": "2024-03-08T15:57:54.707904Z",
     "shell.execute_reply": "2024-03-08T15:57:54.706943Z"
    },
    "papermill": {
     "duration": 0.0471,
     "end_time": "2024-03-08T15:57:54.710401",
     "exception": false,
     "start_time": "2024-03-08T15:57:54.663301",
     "status": "completed"
    },
    "tags": []
   },
   "outputs": [
    {
     "data": {
      "text/html": [
       "<div>\n",
       "<style scoped>\n",
       "    .dataframe tbody tr th:only-of-type {\n",
       "        vertical-align: middle;\n",
       "    }\n",
       "\n",
       "    .dataframe tbody tr th {\n",
       "        vertical-align: top;\n",
       "    }\n",
       "\n",
       "    .dataframe thead th {\n",
       "        text-align: right;\n",
       "    }\n",
       "</style>\n",
       "<table border=\"1\" class=\"dataframe\">\n",
       "  <thead>\n",
       "    <tr style=\"text-align: right;\">\n",
       "      <th></th>\n",
       "      <th>Word</th>\n",
       "      <th>Frequency</th>\n",
       "    </tr>\n",
       "  </thead>\n",
       "  <tbody>\n",
       "    <tr>\n",
       "      <th>0</th>\n",
       "      <td>call</td>\n",
       "      <td>320</td>\n",
       "    </tr>\n",
       "    <tr>\n",
       "      <th>1</th>\n",
       "      <td>free</td>\n",
       "      <td>191</td>\n",
       "    </tr>\n",
       "    <tr>\n",
       "      <th>2</th>\n",
       "      <td>2</td>\n",
       "      <td>155</td>\n",
       "    </tr>\n",
       "    <tr>\n",
       "      <th>3</th>\n",
       "      <td>txt</td>\n",
       "      <td>141</td>\n",
       "    </tr>\n",
       "    <tr>\n",
       "      <th>4</th>\n",
       "      <td>text</td>\n",
       "      <td>122</td>\n",
       "    </tr>\n",
       "    <tr>\n",
       "      <th>5</th>\n",
       "      <td>u</td>\n",
       "      <td>119</td>\n",
       "    </tr>\n",
       "    <tr>\n",
       "      <th>6</th>\n",
       "      <td>ur</td>\n",
       "      <td>119</td>\n",
       "    </tr>\n",
       "    <tr>\n",
       "      <th>7</th>\n",
       "      <td>mobil</td>\n",
       "      <td>114</td>\n",
       "    </tr>\n",
       "    <tr>\n",
       "      <th>8</th>\n",
       "      <td>stop</td>\n",
       "      <td>104</td>\n",
       "    </tr>\n",
       "    <tr>\n",
       "      <th>9</th>\n",
       "      <td>repli</td>\n",
       "      <td>103</td>\n",
       "    </tr>\n",
       "    <tr>\n",
       "      <th>10</th>\n",
       "      <td>claim</td>\n",
       "      <td>98</td>\n",
       "    </tr>\n",
       "    <tr>\n",
       "      <th>11</th>\n",
       "      <td>4</td>\n",
       "      <td>97</td>\n",
       "    </tr>\n",
       "    <tr>\n",
       "      <th>12</th>\n",
       "      <td>prize</td>\n",
       "      <td>82</td>\n",
       "    </tr>\n",
       "    <tr>\n",
       "      <th>13</th>\n",
       "      <td>get</td>\n",
       "      <td>74</td>\n",
       "    </tr>\n",
       "    <tr>\n",
       "      <th>14</th>\n",
       "      <td>new</td>\n",
       "      <td>64</td>\n",
       "    </tr>\n",
       "    <tr>\n",
       "      <th>15</th>\n",
       "      <td>servic</td>\n",
       "      <td>64</td>\n",
       "    </tr>\n",
       "    <tr>\n",
       "      <th>16</th>\n",
       "      <td>tone</td>\n",
       "      <td>63</td>\n",
       "    </tr>\n",
       "    <tr>\n",
       "      <th>17</th>\n",
       "      <td>send</td>\n",
       "      <td>60</td>\n",
       "    </tr>\n",
       "    <tr>\n",
       "      <th>18</th>\n",
       "      <td>urgent</td>\n",
       "      <td>57</td>\n",
       "    </tr>\n",
       "    <tr>\n",
       "      <th>19</th>\n",
       "      <td>nokia</td>\n",
       "      <td>57</td>\n",
       "    </tr>\n",
       "    <tr>\n",
       "      <th>20</th>\n",
       "      <td>contact</td>\n",
       "      <td>56</td>\n",
       "    </tr>\n",
       "    <tr>\n",
       "      <th>21</th>\n",
       "      <td>award</td>\n",
       "      <td>55</td>\n",
       "    </tr>\n",
       "    <tr>\n",
       "      <th>22</th>\n",
       "      <td>phone</td>\n",
       "      <td>52</td>\n",
       "    </tr>\n",
       "    <tr>\n",
       "      <th>23</th>\n",
       "      <td>cash</td>\n",
       "      <td>51</td>\n",
       "    </tr>\n",
       "    <tr>\n",
       "      <th>24</th>\n",
       "      <td>pleas</td>\n",
       "      <td>51</td>\n",
       "    </tr>\n",
       "    <tr>\n",
       "      <th>25</th>\n",
       "      <td>week</td>\n",
       "      <td>49</td>\n",
       "    </tr>\n",
       "    <tr>\n",
       "      <th>26</th>\n",
       "      <td>win</td>\n",
       "      <td>48</td>\n",
       "    </tr>\n",
       "    <tr>\n",
       "      <th>27</th>\n",
       "      <td>c</td>\n",
       "      <td>45</td>\n",
       "    </tr>\n",
       "    <tr>\n",
       "      <th>28</th>\n",
       "      <td>collect</td>\n",
       "      <td>45</td>\n",
       "    </tr>\n",
       "    <tr>\n",
       "      <th>29</th>\n",
       "      <td>min</td>\n",
       "      <td>45</td>\n",
       "    </tr>\n",
       "  </tbody>\n",
       "</table>\n",
       "</div>"
      ],
      "text/plain": [
       "       Word  Frequency\n",
       "0      call        320\n",
       "1      free        191\n",
       "2         2        155\n",
       "3       txt        141\n",
       "4      text        122\n",
       "5         u        119\n",
       "6        ur        119\n",
       "7     mobil        114\n",
       "8      stop        104\n",
       "9     repli        103\n",
       "10    claim         98\n",
       "11        4         97\n",
       "12    prize         82\n",
       "13      get         74\n",
       "14      new         64\n",
       "15   servic         64\n",
       "16     tone         63\n",
       "17     send         60\n",
       "18   urgent         57\n",
       "19    nokia         57\n",
       "20  contact         56\n",
       "21    award         55\n",
       "22    phone         52\n",
       "23     cash         51\n",
       "24    pleas         51\n",
       "25     week         49\n",
       "26      win         48\n",
       "27        c         45\n",
       "28  collect         45\n",
       "29      min         45"
      ]
     },
     "execution_count": 44,
     "metadata": {},
     "output_type": "execute_result"
    }
   ],
   "source": [
    "#this are top 30 words in spam\n",
    "from collections import Counter\n",
    "df_spam = pd.DataFrame(Counter(spam_corpus).most_common(30), columns=['Word', 'Frequency'])\n",
    "df_spam"
   ]
  },
  {
   "cell_type": "code",
   "execution_count": 45,
   "id": "8c0ebebd",
   "metadata": {
    "execution": {
     "iopub.execute_input": "2024-03-08T15:57:54.773867Z",
     "iopub.status.busy": "2024-03-08T15:57:54.773390Z",
     "iopub.status.idle": "2024-03-08T15:57:55.192264Z",
     "shell.execute_reply": "2024-03-08T15:57:55.191232Z"
    },
    "papermill": {
     "duration": 0.452633,
     "end_time": "2024-03-08T15:57:55.194670",
     "exception": false,
     "start_time": "2024-03-08T15:57:54.742037",
     "status": "completed"
    },
    "tags": []
   },
   "outputs": [
    {
     "data": {
      "image/png": "[encoded data removed]",
      "text/plain": [
       "<Figure size 640x480 with 1 Axes>"
      ]
     },
     "metadata": {},
     "output_type": "display_data"
    }
   ],
   "source": [
    "sns.barplot(x='Word', y='Frequency', data=df_spam)\n",
    "plt.xticks(rotation = 'vertical')\n",
    "plt.show()"
   ]
  },
  {
   "cell_type": "code",
   "execution_count": 46,
   "id": "c9b49c07",
   "metadata": {
    "execution": {
     "iopub.execute_input": "2024-03-08T15:57:55.256968Z",
     "iopub.status.busy": "2024-03-08T15:57:55.255984Z",
     "iopub.status.idle": "2024-03-08T15:57:55.272591Z",
     "shell.execute_reply": "2024-03-08T15:57:55.271475Z"
    },
    "papermill": {
     "duration": 0.050106,
     "end_time": "2024-03-08T15:57:55.274966",
     "exception": false,
     "start_time": "2024-03-08T15:57:55.224860",
     "status": "completed"
    },
    "tags": []
   },
   "outputs": [
    {
     "data": {
      "text/plain": [
       "35404"
      ]
     },
     "execution_count": 46,
     "metadata": {},
     "output_type": "execute_result"
    }
   ],
   "source": [
    "#lets get top 30 words in ham messages now\n",
    "ham_corpus = []\n",
    "for msg in df[df['target']==0]['tranformed_text'].tolist():\n",
    "    for word in msg.split():\n",
    "        ham_corpus.append(word)\n",
    "len(ham_corpus)"
   ]
  },
  {
   "cell_type": "code",
   "execution_count": 47,
   "id": "1cac46b2",
   "metadata": {
    "execution": {
     "iopub.execute_input": "2024-03-08T15:57:55.335759Z",
     "iopub.status.busy": "2024-03-08T15:57:55.335350Z",
     "iopub.status.idle": "2024-03-08T15:57:55.729981Z",
     "shell.execute_reply": "2024-03-08T15:57:55.728675Z"
    },
    "papermill": {
     "duration": 0.427871,
     "end_time": "2024-03-08T15:57:55.732434",
     "exception": false,
     "start_time": "2024-03-08T15:57:55.304563",
     "status": "completed"
    },
    "tags": []
   },
   "outputs": [
    {
     "data": {
      "image/png": "[encoded data removed]",
      "text/plain": [
       "<Figure size 640x480 with 1 Axes>"
      ]
     },
     "metadata": {},
     "output_type": "display_data"
    }
   ],
   "source": [
    "#this are top 30 words in ham\n",
    "from collections import Counter\n",
    "df_ham = pd.DataFrame(Counter(ham_corpus).most_common(30), columns=['Word', 'Frequency'])\n",
    "sns.barplot(x='Word', y='Frequency', data=df_ham)\n",
    "plt.xticks(rotation = 'vertical')\n",
    "plt.show()"
   ]
  },
  {
   "cell_type": "markdown",
   "id": "a4dbbdd0",
   "metadata": {
    "papermill": {
     "duration": 0.029901,
     "end_time": "2024-03-08T15:57:55.793462",
     "exception": false,
     "start_time": "2024-03-08T15:57:55.763561",
     "status": "completed"
    },
    "tags": []
   },
   "source": [
    "<a id=section4></a>\n",
    "\n",
    "-----------------------------------\n",
    "\n",
    "# Model Building"
   ]
  },
  {
   "cell_type": "markdown",
   "id": "ddae06e7",
   "metadata": {
    "papermill": {
     "duration": 0.029611,
     "end_time": "2024-03-08T15:57:55.854021",
     "exception": false,
     "start_time": "2024-03-08T15:57:55.824410",
     "status": "completed"
    },
    "tags": []
   },
   "source": [
    "## Navie Bayes Model"
   ]
  },
  {
   "cell_type": "markdown",
   "id": "2bfef66c",
   "metadata": {
    "papermill": {
     "duration": 0.03037,
     "end_time": "2024-03-08T15:57:55.914509",
     "exception": false,
     "start_time": "2024-03-08T15:57:55.884139",
     "status": "completed"
    },
    "tags": []
   },
   "source": [
    "### Using Bag of Words"
   ]
  },
  {
   "cell_type": "code",
   "execution_count": 48,
   "id": "8e28bdf1",
   "metadata": {
    "execution": {
     "iopub.execute_input": "2024-03-08T15:57:55.976755Z",
     "iopub.status.busy": "2024-03-08T15:57:55.976352Z",
     "iopub.status.idle": "2024-03-08T15:57:55.981096Z",
     "shell.execute_reply": "2024-03-08T15:57:55.980210Z"
    },
    "papermill": {
     "duration": 0.038733,
     "end_time": "2024-03-08T15:57:55.983234",
     "exception": false,
     "start_time": "2024-03-08T15:57:55.944501",
     "status": "completed"
    },
    "tags": []
   },
   "outputs": [],
   "source": [
    "#Our Featrure is in Text we need numerical features to train model we would do this by vectorization technique we will use bag of words\n",
    "from sklearn.feature_extraction.text import CountVectorizer, TfidfVectorizer \n",
    "cv = CountVectorizer()"
   ]
  },
  {
   "cell_type": "code",
   "execution_count": 49,
   "id": "3d25c75f",
   "metadata": {
    "execution": {
     "iopub.execute_input": "2024-03-08T15:57:56.046555Z",
     "iopub.status.busy": "2024-03-08T15:57:56.045489Z",
     "iopub.status.idle": "2024-03-08T15:57:56.056437Z",
     "shell.execute_reply": "2024-03-08T15:57:56.055647Z"
    },
    "papermill": {
     "duration": 0.044941,
     "end_time": "2024-03-08T15:57:56.058486",
     "exception": false,
     "start_time": "2024-03-08T15:57:56.013545",
     "status": "completed"
    },
    "tags": []
   },
   "outputs": [
    {
     "data": {
      "text/html": [
       "<div>\n",
       "<style scoped>\n",
       "    .dataframe tbody tr th:only-of-type {\n",
       "        vertical-align: middle;\n",
       "    }\n",
       "\n",
       "    .dataframe tbody tr th {\n",
       "        vertical-align: top;\n",
       "    }\n",
       "\n",
       "    .dataframe thead th {\n",
       "        text-align: right;\n",
       "    }\n",
       "</style>\n",
       "<table border=\"1\" class=\"dataframe\">\n",
       "  <thead>\n",
       "    <tr style=\"text-align: right;\">\n",
       "      <th></th>\n",
       "      <th>target</th>\n",
       "      <th>text</th>\n",
       "      <th>num_char</th>\n",
       "      <th>num_words</th>\n",
       "      <th>num_sentences</th>\n",
       "      <th>tranformed_text</th>\n",
       "    </tr>\n",
       "  </thead>\n",
       "  <tbody>\n",
       "    <tr>\n",
       "      <th>0</th>\n",
       "      <td>0</td>\n",
       "      <td>Go until jurong point, crazy.. Available only ...</td>\n",
       "      <td>111</td>\n",
       "      <td>24</td>\n",
       "      <td>2</td>\n",
       "      <td>go jurong point crazi avail bugi n great world...</td>\n",
       "    </tr>\n",
       "    <tr>\n",
       "      <th>1</th>\n",
       "      <td>0</td>\n",
       "      <td>Ok lar... Joking wif u oni...</td>\n",
       "      <td>29</td>\n",
       "      <td>8</td>\n",
       "      <td>2</td>\n",
       "      <td>ok lar joke wif u oni</td>\n",
       "    </tr>\n",
       "    <tr>\n",
       "      <th>2</th>\n",
       "      <td>1</td>\n",
       "      <td>Free entry in 2 a wkly comp to win FA Cup fina...</td>\n",
       "      <td>155</td>\n",
       "      <td>37</td>\n",
       "      <td>2</td>\n",
       "      <td>free entri 2 wkli comp win fa cup final tkt 21...</td>\n",
       "    </tr>\n",
       "    <tr>\n",
       "      <th>3</th>\n",
       "      <td>0</td>\n",
       "      <td>U dun say so early hor... U c already then say...</td>\n",
       "      <td>49</td>\n",
       "      <td>13</td>\n",
       "      <td>1</td>\n",
       "      <td>u dun say earli hor u c alreadi say</td>\n",
       "    </tr>\n",
       "    <tr>\n",
       "      <th>4</th>\n",
       "      <td>0</td>\n",
       "      <td>Nah I don't think he goes to usf, he lives aro...</td>\n",
       "      <td>61</td>\n",
       "      <td>15</td>\n",
       "      <td>1</td>\n",
       "      <td>nah think goe usf live around though</td>\n",
       "    </tr>\n",
       "  </tbody>\n",
       "</table>\n",
       "</div>"
      ],
      "text/plain": [
       "   target                                               text  num_char  \\\n",
       "0       0  Go until jurong point, crazy.. Available only ...       111   \n",
       "1       0                      Ok lar... Joking wif u oni...        29   \n",
       "2       1  Free entry in 2 a wkly comp to win FA Cup fina...       155   \n",
       "3       0  U dun say so early hor... U c already then say...        49   \n",
       "4       0  Nah I don't think he goes to usf, he lives aro...        61   \n",
       "\n",
       "   num_words  num_sentences                                    tranformed_text  \n",
       "0         24              2  go jurong point crazi avail bugi n great world...  \n",
       "1          8              2                              ok lar joke wif u oni  \n",
       "2         37              2  free entri 2 wkli comp win fa cup final tkt 21...  \n",
       "3         13              1                u dun say earli hor u c alreadi say  \n",
       "4         15              1               nah think goe usf live around though  "
      ]
     },
     "execution_count": 49,
     "metadata": {},
     "output_type": "execute_result"
    }
   ],
   "source": [
    "df.head()"
   ]
  },
  {
   "cell_type": "code",
   "execution_count": 50,
   "id": "7c27e7a3",
   "metadata": {
    "execution": {
     "iopub.execute_input": "2024-03-08T15:57:56.119831Z",
     "iopub.status.busy": "2024-03-08T15:57:56.119346Z",
     "iopub.status.idle": "2024-03-08T15:57:56.284462Z",
     "shell.execute_reply": "2024-03-08T15:57:56.283520Z"
    },
    "papermill": {
     "duration": 0.198406,
     "end_time": "2024-03-08T15:57:56.286715",
     "exception": false,
     "start_time": "2024-03-08T15:57:56.088309",
     "status": "completed"
    },
    "tags": []
   },
   "outputs": [
    {
     "data": {
      "text/plain": [
       "array([[0, 0, 0, ..., 0, 0, 0],\n",
       "       [0, 0, 0, ..., 0, 0, 0],\n",
       "       [0, 0, 0, ..., 0, 0, 0],\n",
       "       ...,\n",
       "       [0, 0, 0, ..., 0, 0, 0],\n",
       "       [0, 0, 0, ..., 0, 0, 0],\n",
       "       [0, 0, 0, ..., 0, 0, 0]], dtype=int64)"
      ]
     },
     "execution_count": 50,
     "metadata": {},
     "output_type": "execute_result"
    }
   ],
   "source": [
    "X_cv = cv.fit_transform(df['tranformed_text']).toarray() #we convert into array cause we get the output in sparse array\n",
    "X_cv"
   ]
  },
  {
   "cell_type": "code",
   "execution_count": 51,
   "id": "d1084ed7",
   "metadata": {
    "execution": {
     "iopub.execute_input": "2024-03-08T15:57:56.349583Z",
     "iopub.status.busy": "2024-03-08T15:57:56.348789Z",
     "iopub.status.idle": "2024-03-08T15:57:56.355295Z",
     "shell.execute_reply": "2024-03-08T15:57:56.354216Z"
    },
    "papermill": {
     "duration": 0.04069,
     "end_time": "2024-03-08T15:57:56.357562",
     "exception": false,
     "start_time": "2024-03-08T15:57:56.316872",
     "status": "completed"
    },
    "tags": []
   },
   "outputs": [
    {
     "data": {
      "text/plain": [
       "(5169, 6708)"
      ]
     },
     "execution_count": 51,
     "metadata": {},
     "output_type": "execute_result"
    }
   ],
   "source": [
    "X_cv.shape"
   ]
  },
  {
   "cell_type": "code",
   "execution_count": 52,
   "id": "de28b4c1",
   "metadata": {
    "execution": {
     "iopub.execute_input": "2024-03-08T15:57:56.421048Z",
     "iopub.status.busy": "2024-03-08T15:57:56.420296Z",
     "iopub.status.idle": "2024-03-08T15:57:56.427093Z",
     "shell.execute_reply": "2024-03-08T15:57:56.426036Z"
    },
    "papermill": {
     "duration": 0.040427,
     "end_time": "2024-03-08T15:57:56.429134",
     "exception": false,
     "start_time": "2024-03-08T15:57:56.388707",
     "status": "completed"
    },
    "tags": []
   },
   "outputs": [
    {
     "data": {
      "text/plain": [
       "array([0, 0, 1, ..., 0, 0, 0])"
      ]
     },
     "execution_count": 52,
     "metadata": {},
     "output_type": "execute_result"
    }
   ],
   "source": [
    "y = df['target'].values\n",
    "y"
   ]
  },
  {
   "cell_type": "code",
   "execution_count": 53,
   "id": "04fa2068",
   "metadata": {
    "execution": {
     "iopub.execute_input": "2024-03-08T15:57:56.492147Z",
     "iopub.status.busy": "2024-03-08T15:57:56.491751Z",
     "iopub.status.idle": "2024-03-08T15:57:56.691076Z",
     "shell.execute_reply": "2024-03-08T15:57:56.689886Z"
    },
    "papermill": {
     "duration": 0.234153,
     "end_time": "2024-03-08T15:57:56.693898",
     "exception": false,
     "start_time": "2024-03-08T15:57:56.459745",
     "status": "completed"
    },
    "tags": []
   },
   "outputs": [],
   "source": [
    "from sklearn.model_selection import train_test_split\n",
    "X_train, X_test, y_train, y_test= train_test_split(X_cv, y, test_size =0.2, random_state = 2)"
   ]
  },
  {
   "cell_type": "code",
   "execution_count": 54,
   "id": "46d48d70",
   "metadata": {
    "execution": {
     "iopub.execute_input": "2024-03-08T15:57:56.756821Z",
     "iopub.status.busy": "2024-03-08T15:57:56.756420Z",
     "iopub.status.idle": "2024-03-08T15:57:56.763702Z",
     "shell.execute_reply": "2024-03-08T15:57:56.762757Z"
    },
    "papermill": {
     "duration": 0.041888,
     "end_time": "2024-03-08T15:57:56.765992",
     "exception": false,
     "start_time": "2024-03-08T15:57:56.724104",
     "status": "completed"
    },
    "tags": []
   },
   "outputs": [],
   "source": [
    "from sklearn.naive_bayes import GaussianNB, MultinomialNB, BernoulliNB\n",
    "from sklearn.metrics import accuracy_score, confusion_matrix, precision_score  \n",
    "gnb = GaussianNB()\n",
    "mnb = MultinomialNB()\n",
    "bnb = BernoulliNB()"
   ]
  },
  {
   "cell_type": "code",
   "execution_count": 55,
   "id": "11fc0308",
   "metadata": {
    "execution": {
     "iopub.execute_input": "2024-03-08T15:57:56.828924Z",
     "iopub.status.busy": "2024-03-08T15:57:56.828561Z",
     "iopub.status.idle": "2024-03-08T15:57:57.498983Z",
     "shell.execute_reply": "2024-03-08T15:57:57.497670Z"
    },
    "papermill": {
     "duration": 0.70538,
     "end_time": "2024-03-08T15:57:57.501697",
     "exception": false,
     "start_time": "2024-03-08T15:57:56.796317",
     "status": "completed"
    },
    "tags": []
   },
   "outputs": [
    {
     "name": "stdout",
     "output_type": "stream",
     "text": [
      "accuracy Score:  0.8800773694390716\n",
      "\n",
      "confusion matrix: \n",
      "[[792 104]\n",
      " [ 20 118]]\n",
      "\n",
      "precision score:  0.5315315315315315\n"
     ]
    }
   ],
   "source": [
    "gnb.fit(X_train, y_train)\n",
    "y_pred1 = gnb.predict(X_test)\n",
    "print(\"accuracy Score: \", accuracy_score(y_test, y_pred1))\n",
    "print()\n",
    "print(\"confusion matrix: \")\n",
    "print(confusion_matrix(y_test, y_pred1))\n",
    "print()\n",
    "print(\"precision score: \", precision_score(y_test, y_pred1))\n",
    "#In this problem statement precision score is very importatant so it able to classify properly in this true positive"
   ]
  },
  {
   "cell_type": "code",
   "execution_count": 56,
   "id": "1f646e40",
   "metadata": {
    "execution": {
     "iopub.execute_input": "2024-03-08T15:57:57.571486Z",
     "iopub.status.busy": "2024-03-08T15:57:57.571095Z",
     "iopub.status.idle": "2024-03-08T15:57:57.912958Z",
     "shell.execute_reply": "2024-03-08T15:57:57.911790Z"
    },
    "papermill": {
     "duration": 0.382569,
     "end_time": "2024-03-08T15:57:57.916532",
     "exception": false,
     "start_time": "2024-03-08T15:57:57.533963",
     "status": "completed"
    },
    "tags": []
   },
   "outputs": [
    {
     "name": "stdout",
     "output_type": "stream",
     "text": [
      "accuracy Score:  0.9642166344294004\n",
      "\n",
      "confusion matrix: \n",
      "[[871  25]\n",
      " [ 12 126]]\n",
      "\n",
      "precision score:  0.8344370860927153\n"
     ]
    }
   ],
   "source": [
    "mnb.fit(X_train, y_train)\n",
    "y_pred2 = mnb.predict(X_test)\n",
    "print(\"accuracy Score: \", accuracy_score(y_test, y_pred2))\n",
    "print()\n",
    "print(\"confusion matrix: \")\n",
    "print(confusion_matrix(y_test, y_pred2))\n",
    "print()\n",
    "print(\"precision score: \", precision_score(y_test, y_pred2))"
   ]
  },
  {
   "cell_type": "code",
   "execution_count": 57,
   "id": "453559c4",
   "metadata": {
    "execution": {
     "iopub.execute_input": "2024-03-08T15:57:58.023250Z",
     "iopub.status.busy": "2024-03-08T15:57:58.022660Z",
     "iopub.status.idle": "2024-03-08T15:57:58.587817Z",
     "shell.execute_reply": "2024-03-08T15:57:58.586614Z"
    },
    "papermill": {
     "duration": 0.62303,
     "end_time": "2024-03-08T15:57:58.591791",
     "exception": false,
     "start_time": "2024-03-08T15:57:57.968761",
     "status": "completed"
    },
    "tags": []
   },
   "outputs": [
    {
     "name": "stdout",
     "output_type": "stream",
     "text": [
      "accuracy Score:  0.9700193423597679\n",
      "\n",
      "confusion matrix: \n",
      "[[893   3]\n",
      " [ 28 110]]\n",
      "\n",
      "precision score:  0.9734513274336283\n"
     ]
    }
   ],
   "source": [
    "bnb.fit(X_train, y_train)\n",
    "y_pred3 = bnb.predict(X_test)\n",
    "print(\"accuracy Score: \", accuracy_score(y_test, y_pred3))\n",
    "print()\n",
    "print(\"confusion matrix: \")\n",
    "print(confusion_matrix(y_test, y_pred3))\n",
    "print()\n",
    "print(\"precision score: \", precision_score(y_test, y_pred3))"
   ]
  },
  {
   "cell_type": "markdown",
   "id": "a3049cd3",
   "metadata": {
    "papermill": {
     "duration": 0.053166,
     "end_time": "2024-03-08T15:57:58.697519",
     "exception": false,
     "start_time": "2024-03-08T15:57:58.644353",
     "status": "completed"
    },
    "tags": []
   },
   "source": [
    "### Using Tfidf Vectorizer"
   ]
  },
  {
   "cell_type": "code",
   "execution_count": 58,
   "id": "af9b14b4",
   "metadata": {
    "execution": {
     "iopub.execute_input": "2024-03-08T15:57:58.764812Z",
     "iopub.status.busy": "2024-03-08T15:57:58.764444Z",
     "iopub.status.idle": "2024-03-08T15:57:58.999169Z",
     "shell.execute_reply": "2024-03-08T15:57:58.998038Z"
    },
    "papermill": {
     "duration": 0.272194,
     "end_time": "2024-03-08T15:57:59.001563",
     "exception": false,
     "start_time": "2024-03-08T15:57:58.729369",
     "status": "completed"
    },
    "tags": []
   },
   "outputs": [
    {
     "data": {
      "text/plain": [
       "array([[0., 0., 0., ..., 0., 0., 0.],\n",
       "       [0., 0., 0., ..., 0., 0., 0.],\n",
       "       [0., 0., 0., ..., 0., 0., 0.],\n",
       "       ...,\n",
       "       [0., 0., 0., ..., 0., 0., 0.],\n",
       "       [0., 0., 0., ..., 0., 0., 0.],\n",
       "       [0., 0., 0., ..., 0., 0., 0.]])"
      ]
     },
     "execution_count": 58,
     "metadata": {},
     "output_type": "execute_result"
    }
   ],
   "source": [
    "tfidf = TfidfVectorizer()\n",
    "X_tf = tfidf.fit_transform(df['tranformed_text']).toarray() #we convert into array cause we get the output in sparse array\n",
    "X_tf"
   ]
  },
  {
   "cell_type": "code",
   "execution_count": 59,
   "id": "0f620907",
   "metadata": {
    "execution": {
     "iopub.execute_input": "2024-03-08T15:57:59.065985Z",
     "iopub.status.busy": "2024-03-08T15:57:59.065610Z",
     "iopub.status.idle": "2024-03-08T15:57:59.222638Z",
     "shell.execute_reply": "2024-03-08T15:57:59.221672Z"
    },
    "papermill": {
     "duration": 0.19221,
     "end_time": "2024-03-08T15:57:59.224948",
     "exception": false,
     "start_time": "2024-03-08T15:57:59.032738",
     "status": "completed"
    },
    "tags": []
   },
   "outputs": [],
   "source": [
    "X_train, X_test, y_train, y_test= train_test_split(X_tf, y, test_size =0.2, random_state = 2)"
   ]
  },
  {
   "cell_type": "code",
   "execution_count": 60,
   "id": "3b6608c5",
   "metadata": {
    "execution": {
     "iopub.execute_input": "2024-03-08T15:57:59.289053Z",
     "iopub.status.busy": "2024-03-08T15:57:59.287939Z",
     "iopub.status.idle": "2024-03-08T15:57:59.844174Z",
     "shell.execute_reply": "2024-03-08T15:57:59.843404Z"
    },
    "papermill": {
     "duration": 0.590762,
     "end_time": "2024-03-08T15:57:59.846290",
     "exception": false,
     "start_time": "2024-03-08T15:57:59.255528",
     "status": "completed"
    },
    "tags": []
   },
   "outputs": [
    {
     "name": "stdout",
     "output_type": "stream",
     "text": [
      "accuracy Score:  0.8762088974854932\n",
      "\n",
      "confusion matrix: \n",
      "[[793 103]\n",
      " [ 25 113]]\n",
      "\n",
      "precision score:  0.5231481481481481\n"
     ]
    }
   ],
   "source": [
    "gnb.fit(X_train, y_train)\n",
    "y_pred1 = gnb.predict(X_test)\n",
    "print(\"accuracy Score: \", accuracy_score(y_test, y_pred1))\n",
    "print()\n",
    "print(\"confusion matrix: \")\n",
    "print(confusion_matrix(y_test, y_pred1))\n",
    "print()\n",
    "print(\"precision score: \", precision_score(y_test, y_pred1))\n",
    "#In this problem statement precision score is very importatant so it able to classify properly in this false positive"
   ]
  },
  {
   "cell_type": "code",
   "execution_count": 61,
   "id": "cf2542f6",
   "metadata": {
    "execution": {
     "iopub.execute_input": "2024-03-08T15:57:59.911441Z",
     "iopub.status.busy": "2024-03-08T15:57:59.910489Z",
     "iopub.status.idle": "2024-03-08T15:58:00.085748Z",
     "shell.execute_reply": "2024-03-08T15:58:00.084429Z"
    },
    "papermill": {
     "duration": 0.211397,
     "end_time": "2024-03-08T15:58:00.089085",
     "exception": false,
     "start_time": "2024-03-08T15:57:59.877688",
     "status": "completed"
    },
    "tags": []
   },
   "outputs": [
    {
     "name": "stdout",
     "output_type": "stream",
     "text": [
      "accuracy Score:  0.9593810444874274\n",
      "\n",
      "confusion matrix: \n",
      "[[896   0]\n",
      " [ 42  96]]\n",
      "\n",
      "precision score:  1.0\n"
     ]
    }
   ],
   "source": [
    "mnb.fit(X_train, y_train)\n",
    "y_pred2 = mnb.predict(X_test)\n",
    "print(\"accuracy Score: \", accuracy_score(y_test, y_pred2))\n",
    "print()\n",
    "print(\"confusion matrix: \")\n",
    "print(confusion_matrix(y_test, y_pred2))\n",
    "print()\n",
    "print(\"precision score: \", precision_score(y_test, y_pred2))"
   ]
  },
  {
   "cell_type": "code",
   "execution_count": 62,
   "id": "d23426b5",
   "metadata": {
    "execution": {
     "iopub.execute_input": "2024-03-08T15:58:00.211948Z",
     "iopub.status.busy": "2024-03-08T15:58:00.211591Z",
     "iopub.status.idle": "2024-03-08T15:58:00.587147Z",
     "shell.execute_reply": "2024-03-08T15:58:00.585955Z"
    },
    "papermill": {
     "duration": 0.41169,
     "end_time": "2024-03-08T15:58:00.590953",
     "exception": false,
     "start_time": "2024-03-08T15:58:00.179263",
     "status": "completed"
    },
    "tags": []
   },
   "outputs": [
    {
     "name": "stdout",
     "output_type": "stream",
     "text": [
      "accuracy Score:  0.9700193423597679\n",
      "\n",
      "confusion matrix: \n",
      "[[893   3]\n",
      " [ 28 110]]\n",
      "\n",
      "precision score:  0.9734513274336283\n"
     ]
    }
   ],
   "source": [
    "bnb.fit(X_train, y_train)\n",
    "y_pred3 = bnb.predict(X_test)\n",
    "print(\"accuracy Score: \", accuracy_score(y_test, y_pred3))\n",
    "print()\n",
    "print(\"confusion matrix: \")\n",
    "print(confusion_matrix(y_test, y_pred3))\n",
    "print()\n",
    "print(\"precision score: \", precision_score(y_test, y_pred3))"
   ]
  },
  {
   "cell_type": "markdown",
   "id": "c2445304",
   "metadata": {
    "execution": {
     "iopub.execute_input": "2024-03-08T15:58:00.697123Z",
     "iopub.status.busy": "2024-03-08T15:58:00.696764Z",
     "iopub.status.idle": "2024-03-08T15:58:00.700914Z",
     "shell.execute_reply": "2024-03-08T15:58:00.700127Z"
    },
    "papermill": {
     "duration": 0.059803,
     "end_time": "2024-03-08T15:58:00.704229",
     "exception": false,
     "start_time": "2024-03-08T15:58:00.644426",
     "status": "completed"
    },
    "tags": []
   },
   "source": [
    "**we choosed tfidf  --> mnb   we choosed the multinomial classifier because its precision score is best beacuse its predicting false postive(spam and predicting right)**"
   ]
  },
  {
   "cell_type": "markdown",
   "id": "5d13b0b0",
   "metadata": {
    "papermill": {
     "duration": 0.032174,
     "end_time": "2024-03-08T15:58:00.767843",
     "exception": false,
     "start_time": "2024-03-08T15:58:00.735669",
     "status": "completed"
    },
    "tags": []
   },
   "source": [
    "<a id=section5></a>\n",
    "\n",
    "-----------------------------------\n",
    "\n",
    "## Other Models"
   ]
  },
  {
   "cell_type": "code",
   "execution_count": 63,
   "id": "8a256086",
   "metadata": {
    "execution": {
     "iopub.execute_input": "2024-03-08T15:58:00.834248Z",
     "iopub.status.busy": "2024-03-08T15:58:00.832999Z",
     "iopub.status.idle": "2024-03-08T15:58:01.173687Z",
     "shell.execute_reply": "2024-03-08T15:58:01.172625Z"
    },
    "papermill": {
     "duration": 0.376439,
     "end_time": "2024-03-08T15:58:01.176857",
     "exception": false,
     "start_time": "2024-03-08T15:58:00.800418",
     "status": "completed"
    },
    "tags": []
   },
   "outputs": [],
   "source": [
    "from sklearn.linear_model import LogisticRegression\n",
    "from sklearn.svm import SVC\n",
    "from sklearn.naive_bayes import MultinomialNB\n",
    "from sklearn.tree import DecisionTreeClassifier\n",
    "from sklearn.neighbors import KNeighborsClassifier\n",
    "from sklearn.ensemble import RandomForestClassifier\n",
    "from sklearn.ensemble import AdaBoostClassifier\n",
    "from sklearn.ensemble import BaggingClassifier\n",
    "from sklearn.ensemble import ExtraTreesClassifier\n",
    "from sklearn.ensemble import GradientBoostingClassifier\n",
    "from xgboost import XGBClassifier"
   ]
  },
  {
   "cell_type": "code",
   "execution_count": 64,
   "id": "309baad3",
   "metadata": {
    "execution": {
     "iopub.execute_input": "2024-03-08T15:58:01.246450Z",
     "iopub.status.busy": "2024-03-08T15:58:01.245866Z",
     "iopub.status.idle": "2024-03-08T15:58:01.253800Z",
     "shell.execute_reply": "2024-03-08T15:58:01.252721Z"
    },
    "papermill": {
     "duration": 0.042887,
     "end_time": "2024-03-08T15:58:01.256126",
     "exception": false,
     "start_time": "2024-03-08T15:58:01.213239",
     "status": "completed"
    },
    "tags": []
   },
   "outputs": [],
   "source": [
    "svc = SVC(kernel='sigmoid', gamma=1.0)\n",
    "knc = KNeighborsClassifier()\n",
    "mnb = MultinomialNB()\n",
    "dtc = DecisionTreeClassifier(max_depth=5)\n",
    "lrc = LogisticRegression(solver='liblinear', penalty='l1')\n",
    "rfc = RandomForestClassifier(n_estimators=50, random_state=2)\n",
    "abc = AdaBoostClassifier(n_estimators=50, random_state=2)\n",
    "#bc = BaggingClassifier(n_estimators=50, random_state=2)\n",
    "etc = ExtraTreesClassifier(n_estimators=50, random_state=2)\n",
    "gbdt = GradientBoostingClassifier(n_estimators=50,random_state=2)\n",
    "xgb = XGBClassifier(n_estimators=50,random_state=2)\n",
    "\n",
    "clfs = {\n",
    "    'SVC' : svc,\n",
    "    'KN' : knc, \n",
    "    'NB': mnb, \n",
    "    'DT': dtc, \n",
    "    'LR': lrc, \n",
    "    'RF': rfc, \n",
    "    'AdaBoost': abc, \n",
    "    'ETC': etc,\n",
    "    'GBDT':gbdt,\n",
    "    'xgb':xgb\n",
    "}"
   ]
  },
  {
   "cell_type": "code",
   "execution_count": 65,
   "id": "5d2d581b",
   "metadata": {
    "execution": {
     "iopub.execute_input": "2024-03-08T15:58:01.323738Z",
     "iopub.status.busy": "2024-03-08T15:58:01.322773Z",
     "iopub.status.idle": "2024-03-08T15:58:01.328503Z",
     "shell.execute_reply": "2024-03-08T15:58:01.327427Z"
    },
    "papermill": {
     "duration": 0.04305,
     "end_time": "2024-03-08T15:58:01.330711",
     "exception": false,
     "start_time": "2024-03-08T15:58:01.287661",
     "status": "completed"
    },
    "tags": []
   },
   "outputs": [],
   "source": [
    "def train_classifier(clf,X_train,y_train,X_test,y_test):\n",
    "    clf.fit(X_train,y_train)\n",
    "    y_pred = clf.predict(X_test)\n",
    "    accuracy = accuracy_score(y_test,y_pred)\n",
    "    precision = precision_score(y_test,y_pred)\n",
    "    \n",
    "    return accuracy,precision"
   ]
  },
  {
   "cell_type": "code",
   "execution_count": 66,
   "id": "c340a874",
   "metadata": {
    "execution": {
     "iopub.execute_input": "2024-03-08T15:58:01.396143Z",
     "iopub.status.busy": "2024-03-08T15:58:01.394974Z",
     "iopub.status.idle": "2024-03-08T15:58:09.996157Z",
     "shell.execute_reply": "2024-03-08T15:58:09.995126Z"
    },
    "papermill": {
     "duration": 8.636854,
     "end_time": "2024-03-08T15:58:09.998734",
     "exception": false,
     "start_time": "2024-03-08T15:58:01.361880",
     "status": "completed"
    },
    "tags": []
   },
   "outputs": [
    {
     "data": {
      "text/plain": [
       "(0.9758220502901354, 0.9747899159663865)"
      ]
     },
     "execution_count": 66,
     "metadata": {},
     "output_type": "execute_result"
    }
   ],
   "source": [
    "tfidf = TfidfVectorizer(max_features = 3000) #our model is giving best accuracy for 3000 features and the precision stays 1\n",
    "X_tf = tfidf.fit_transform(df['tranformed_text']).toarray() #we convert into array cause we get the output in sparse array\n",
    "X_train, X_test, y_train, y_test= train_test_split(X_tf, y, test_size =0.2, random_state = 2)\n",
    "train_classifier(svc,X_train,y_train,X_test,y_test)"
   ]
  },
  {
   "cell_type": "code",
   "execution_count": 67,
   "id": "694f9ec2",
   "metadata": {
    "execution": {
     "iopub.execute_input": "2024-03-08T15:58:10.064897Z",
     "iopub.status.busy": "2024-03-08T15:58:10.063899Z",
     "iopub.status.idle": "2024-03-08T15:59:14.657773Z",
     "shell.execute_reply": "2024-03-08T15:59:14.656431Z"
    },
    "papermill": {
     "duration": 64.629406,
     "end_time": "2024-03-08T15:59:14.660214",
     "exception": false,
     "start_time": "2024-03-08T15:58:10.030808",
     "status": "completed"
    },
    "tags": []
   },
   "outputs": [
    {
     "name": "stdout",
     "output_type": "stream",
     "text": [
      "For  SVC\n",
      "Accuracy -  0.9758220502901354\n",
      "Precision -  0.9747899159663865\n",
      "For  KN\n",
      "Accuracy -  0.9052224371373307\n",
      "Precision -  1.0\n",
      "For  NB\n",
      "Accuracy -  0.9709864603481625\n",
      "Precision -  1.0\n",
      "For  DT\n",
      "Accuracy -  0.9323017408123792\n",
      "Precision -  0.8333333333333334\n",
      "For  LR\n",
      "Accuracy -  0.9584139264990329\n",
      "Precision -  0.9702970297029703\n",
      "For  RF\n",
      "Accuracy -  0.9758220502901354\n",
      "Precision -  0.9829059829059829\n",
      "For  AdaBoost\n",
      "Accuracy -  0.960348162475822\n",
      "Precision -  0.9292035398230089\n",
      "For  ETC\n",
      "Accuracy -  0.9748549323017408\n",
      "Precision -  0.9745762711864406\n",
      "For  GBDT\n",
      "Accuracy -  0.9468085106382979\n",
      "Precision -  0.9191919191919192\n",
      "For  xgb\n",
      "Accuracy -  0.9671179883945842\n",
      "Precision -  0.9262295081967213\n"
     ]
    }
   ],
   "source": [
    "accuracy_scores = []\n",
    "precision_scores = []\n",
    "\n",
    "for name,clf in clfs.items():\n",
    "    \n",
    "    current_accuracy,current_precision = train_classifier(clf, X_train,y_train,X_test,y_test)\n",
    "    \n",
    "    print(\"For \",name)\n",
    "    print(\"Accuracy - \",current_accuracy)\n",
    "    print(\"Precision - \",current_precision)\n",
    "    \n",
    "    accuracy_scores.append(current_accuracy)\n",
    "    precision_scores.append(current_precision)"
   ]
  },
  {
   "cell_type": "code",
   "execution_count": 68,
   "id": "1a04fe5d",
   "metadata": {
    "execution": {
     "iopub.execute_input": "2024-03-08T15:59:14.725788Z",
     "iopub.status.busy": "2024-03-08T15:59:14.725389Z",
     "iopub.status.idle": "2024-03-08T15:59:14.738841Z",
     "shell.execute_reply": "2024-03-08T15:59:14.737825Z"
    },
    "papermill": {
     "duration": 0.04911,
     "end_time": "2024-03-08T15:59:14.741410",
     "exception": false,
     "start_time": "2024-03-08T15:59:14.692300",
     "status": "completed"
    },
    "tags": []
   },
   "outputs": [
    {
     "data": {
      "text/html": [
       "<div>\n",
       "<style scoped>\n",
       "    .dataframe tbody tr th:only-of-type {\n",
       "        vertical-align: middle;\n",
       "    }\n",
       "\n",
       "    .dataframe tbody tr th {\n",
       "        vertical-align: top;\n",
       "    }\n",
       "\n",
       "    .dataframe thead th {\n",
       "        text-align: right;\n",
       "    }\n",
       "</style>\n",
       "<table border=\"1\" class=\"dataframe\">\n",
       "  <thead>\n",
       "    <tr style=\"text-align: right;\">\n",
       "      <th></th>\n",
       "      <th>Algorithm</th>\n",
       "      <th>Accuracy</th>\n",
       "      <th>Precision</th>\n",
       "    </tr>\n",
       "  </thead>\n",
       "  <tbody>\n",
       "    <tr>\n",
       "      <th>1</th>\n",
       "      <td>KN</td>\n",
       "      <td>0.905222</td>\n",
       "      <td>1.000000</td>\n",
       "    </tr>\n",
       "    <tr>\n",
       "      <th>2</th>\n",
       "      <td>NB</td>\n",
       "      <td>0.970986</td>\n",
       "      <td>1.000000</td>\n",
       "    </tr>\n",
       "    <tr>\n",
       "      <th>5</th>\n",
       "      <td>RF</td>\n",
       "      <td>0.975822</td>\n",
       "      <td>0.982906</td>\n",
       "    </tr>\n",
       "    <tr>\n",
       "      <th>0</th>\n",
       "      <td>SVC</td>\n",
       "      <td>0.975822</td>\n",
       "      <td>0.974790</td>\n",
       "    </tr>\n",
       "    <tr>\n",
       "      <th>7</th>\n",
       "      <td>ETC</td>\n",
       "      <td>0.974855</td>\n",
       "      <td>0.974576</td>\n",
       "    </tr>\n",
       "    <tr>\n",
       "      <th>4</th>\n",
       "      <td>LR</td>\n",
       "      <td>0.958414</td>\n",
       "      <td>0.970297</td>\n",
       "    </tr>\n",
       "    <tr>\n",
       "      <th>6</th>\n",
       "      <td>AdaBoost</td>\n",
       "      <td>0.960348</td>\n",
       "      <td>0.929204</td>\n",
       "    </tr>\n",
       "    <tr>\n",
       "      <th>9</th>\n",
       "      <td>xgb</td>\n",
       "      <td>0.967118</td>\n",
       "      <td>0.926230</td>\n",
       "    </tr>\n",
       "    <tr>\n",
       "      <th>8</th>\n",
       "      <td>GBDT</td>\n",
       "      <td>0.946809</td>\n",
       "      <td>0.919192</td>\n",
       "    </tr>\n",
       "    <tr>\n",
       "      <th>3</th>\n",
       "      <td>DT</td>\n",
       "      <td>0.932302</td>\n",
       "      <td>0.833333</td>\n",
       "    </tr>\n",
       "  </tbody>\n",
       "</table>\n",
       "</div>"
      ],
      "text/plain": [
       "  Algorithm  Accuracy  Precision\n",
       "1        KN  0.905222   1.000000\n",
       "2        NB  0.970986   1.000000\n",
       "5        RF  0.975822   0.982906\n",
       "0       SVC  0.975822   0.974790\n",
       "7       ETC  0.974855   0.974576\n",
       "4        LR  0.958414   0.970297\n",
       "6  AdaBoost  0.960348   0.929204\n",
       "9       xgb  0.967118   0.926230\n",
       "8      GBDT  0.946809   0.919192\n",
       "3        DT  0.932302   0.833333"
      ]
     },
     "execution_count": 68,
     "metadata": {},
     "output_type": "execute_result"
    }
   ],
   "source": [
    "performance_df = pd.DataFrame({'Algorithm':clfs.keys(),'Accuracy':accuracy_scores,'Precision':precision_scores}).sort_values('Precision',ascending=False)\n",
    "performance_df"
   ]
  },
  {
   "cell_type": "code",
   "execution_count": 69,
   "id": "e1e9f581",
   "metadata": {
    "execution": {
     "iopub.execute_input": "2024-03-08T15:59:14.807508Z",
     "iopub.status.busy": "2024-03-08T15:59:14.806688Z",
     "iopub.status.idle": "2024-03-08T15:59:14.820244Z",
     "shell.execute_reply": "2024-03-08T15:59:14.819505Z"
    },
    "papermill": {
     "duration": 0.048343,
     "end_time": "2024-03-08T15:59:14.822133",
     "exception": false,
     "start_time": "2024-03-08T15:59:14.773790",
     "status": "completed"
    },
    "tags": []
   },
   "outputs": [
    {
     "data": {
      "text/html": [
       "<div>\n",
       "<style scoped>\n",
       "    .dataframe tbody tr th:only-of-type {\n",
       "        vertical-align: middle;\n",
       "    }\n",
       "\n",
       "    .dataframe tbody tr th {\n",
       "        vertical-align: top;\n",
       "    }\n",
       "\n",
       "    .dataframe thead th {\n",
       "        text-align: right;\n",
       "    }\n",
       "</style>\n",
       "<table border=\"1\" class=\"dataframe\">\n",
       "  <thead>\n",
       "    <tr style=\"text-align: right;\">\n",
       "      <th></th>\n",
       "      <th>Algorithm</th>\n",
       "      <th>variable</th>\n",
       "      <th>value</th>\n",
       "    </tr>\n",
       "  </thead>\n",
       "  <tbody>\n",
       "    <tr>\n",
       "      <th>0</th>\n",
       "      <td>KN</td>\n",
       "      <td>Accuracy</td>\n",
       "      <td>0.905222</td>\n",
       "    </tr>\n",
       "    <tr>\n",
       "      <th>1</th>\n",
       "      <td>NB</td>\n",
       "      <td>Accuracy</td>\n",
       "      <td>0.970986</td>\n",
       "    </tr>\n",
       "    <tr>\n",
       "      <th>2</th>\n",
       "      <td>RF</td>\n",
       "      <td>Accuracy</td>\n",
       "      <td>0.975822</td>\n",
       "    </tr>\n",
       "    <tr>\n",
       "      <th>3</th>\n",
       "      <td>SVC</td>\n",
       "      <td>Accuracy</td>\n",
       "      <td>0.975822</td>\n",
       "    </tr>\n",
       "    <tr>\n",
       "      <th>4</th>\n",
       "      <td>ETC</td>\n",
       "      <td>Accuracy</td>\n",
       "      <td>0.974855</td>\n",
       "    </tr>\n",
       "    <tr>\n",
       "      <th>5</th>\n",
       "      <td>LR</td>\n",
       "      <td>Accuracy</td>\n",
       "      <td>0.958414</td>\n",
       "    </tr>\n",
       "    <tr>\n",
       "      <th>6</th>\n",
       "      <td>AdaBoost</td>\n",
       "      <td>Accuracy</td>\n",
       "      <td>0.960348</td>\n",
       "    </tr>\n",
       "    <tr>\n",
       "      <th>7</th>\n",
       "      <td>xgb</td>\n",
       "      <td>Accuracy</td>\n",
       "      <td>0.967118</td>\n",
       "    </tr>\n",
       "    <tr>\n",
       "      <th>8</th>\n",
       "      <td>GBDT</td>\n",
       "      <td>Accuracy</td>\n",
       "      <td>0.946809</td>\n",
       "    </tr>\n",
       "    <tr>\n",
       "      <th>9</th>\n",
       "      <td>DT</td>\n",
       "      <td>Accuracy</td>\n",
       "      <td>0.932302</td>\n",
       "    </tr>\n",
       "    <tr>\n",
       "      <th>10</th>\n",
       "      <td>KN</td>\n",
       "      <td>Precision</td>\n",
       "      <td>1.000000</td>\n",
       "    </tr>\n",
       "    <tr>\n",
       "      <th>11</th>\n",
       "      <td>NB</td>\n",
       "      <td>Precision</td>\n",
       "      <td>1.000000</td>\n",
       "    </tr>\n",
       "    <tr>\n",
       "      <th>12</th>\n",
       "      <td>RF</td>\n",
       "      <td>Precision</td>\n",
       "      <td>0.982906</td>\n",
       "    </tr>\n",
       "    <tr>\n",
       "      <th>13</th>\n",
       "      <td>SVC</td>\n",
       "      <td>Precision</td>\n",
       "      <td>0.974790</td>\n",
       "    </tr>\n",
       "    <tr>\n",
       "      <th>14</th>\n",
       "      <td>ETC</td>\n",
       "      <td>Precision</td>\n",
       "      <td>0.974576</td>\n",
       "    </tr>\n",
       "    <tr>\n",
       "      <th>15</th>\n",
       "      <td>LR</td>\n",
       "      <td>Precision</td>\n",
       "      <td>0.970297</td>\n",
       "    </tr>\n",
       "    <tr>\n",
       "      <th>16</th>\n",
       "      <td>AdaBoost</td>\n",
       "      <td>Precision</td>\n",
       "      <td>0.929204</td>\n",
       "    </tr>\n",
       "    <tr>\n",
       "      <th>17</th>\n",
       "      <td>xgb</td>\n",
       "      <td>Precision</td>\n",
       "      <td>0.926230</td>\n",
       "    </tr>\n",
       "    <tr>\n",
       "      <th>18</th>\n",
       "      <td>GBDT</td>\n",
       "      <td>Precision</td>\n",
       "      <td>0.919192</td>\n",
       "    </tr>\n",
       "    <tr>\n",
       "      <th>19</th>\n",
       "      <td>DT</td>\n",
       "      <td>Precision</td>\n",
       "      <td>0.833333</td>\n",
       "    </tr>\n",
       "  </tbody>\n",
       "</table>\n",
       "</div>"
      ],
      "text/plain": [
       "   Algorithm   variable     value\n",
       "0         KN   Accuracy  0.905222\n",
       "1         NB   Accuracy  0.970986\n",
       "2         RF   Accuracy  0.975822\n",
       "3        SVC   Accuracy  0.975822\n",
       "4        ETC   Accuracy  0.974855\n",
       "5         LR   Accuracy  0.958414\n",
       "6   AdaBoost   Accuracy  0.960348\n",
       "7        xgb   Accuracy  0.967118\n",
       "8       GBDT   Accuracy  0.946809\n",
       "9         DT   Accuracy  0.932302\n",
       "10        KN  Precision  1.000000\n",
       "11        NB  Precision  1.000000\n",
       "12        RF  Precision  0.982906\n",
       "13       SVC  Precision  0.974790\n",
       "14       ETC  Precision  0.974576\n",
       "15        LR  Precision  0.970297\n",
       "16  AdaBoost  Precision  0.929204\n",
       "17       xgb  Precision  0.926230\n",
       "18      GBDT  Precision  0.919192\n",
       "19        DT  Precision  0.833333"
      ]
     },
     "execution_count": 69,
     "metadata": {},
     "output_type": "execute_result"
    }
   ],
   "source": [
    "performance_df1 = pd.melt(performance_df, id_vars = \"Algorithm\")\n",
    "performance_df1"
   ]
  },
  {
   "cell_type": "code",
   "execution_count": 70,
   "id": "9699f079",
   "metadata": {
    "execution": {
     "iopub.execute_input": "2024-03-08T15:59:14.888182Z",
     "iopub.status.busy": "2024-03-08T15:59:14.887588Z",
     "iopub.status.idle": "2024-03-08T15:59:15.368942Z",
     "shell.execute_reply": "2024-03-08T15:59:15.367543Z"
    },
    "papermill": {
     "duration": 0.51731,
     "end_time": "2024-03-08T15:59:15.371533",
     "exception": false,
     "start_time": "2024-03-08T15:59:14.854223",
     "status": "completed"
    },
    "tags": []
   },
   "outputs": [
    {
     "data": {
      "image/png": "[encoded data removed]",
      "text/plain": [
       "<Figure size 613.5x500 with 1 Axes>"
      ]
     },
     "metadata": {},
     "output_type": "display_data"
    }
   ],
   "source": [
    "sns.catplot(x = 'Algorithm', y='value', \n",
    "               hue = 'variable',data=performance_df1, kind='bar',height=5)\n",
    "plt.ylim(0.5,1.0)\n",
    "plt.xticks(rotation='vertical')\n",
    "plt.show()"
   ]
  },
  {
   "cell_type": "markdown",
   "id": "f268182e",
   "metadata": {
    "papermill": {
     "duration": 0.032019,
     "end_time": "2024-03-08T15:59:15.435850",
     "exception": false,
     "start_time": "2024-03-08T15:59:15.403831",
     "status": "completed"
    },
    "tags": []
   },
   "source": [
    "![Confusioin Matrix](https://miro.medium.com/v2/resize:fit:640/format:webp/1*7EYylA6XlXSGBCF77j_rOA.png)"
   ]
  },
  {
   "cell_type": "code",
   "execution_count": 71,
   "id": "28c6a3e5",
   "metadata": {
    "execution": {
     "iopub.execute_input": "2024-03-08T15:59:15.501767Z",
     "iopub.status.busy": "2024-03-08T15:59:15.501375Z",
     "iopub.status.idle": "2024-03-08T15:59:15.506019Z",
     "shell.execute_reply": "2024-03-08T15:59:15.504941Z"
    },
    "papermill": {
     "duration": 0.040034,
     "end_time": "2024-03-08T15:59:15.508049",
     "exception": false,
     "start_time": "2024-03-08T15:59:15.468015",
     "status": "completed"
    },
    "tags": []
   },
   "outputs": [],
   "source": [
    "#In this problem our is to classify the sms is spam or not in given context our best metric would be precision score (it can show the spam mails are classified properly or not) and than accuracy score \n",
    "#so for KNN and the Multinominal Navibayes the Precision are good\n",
    "#But for the accuracy Multinomial navie Bayes is giving best accuracy so we will consider the multinominal classifier"
   ]
  },
  {
   "cell_type": "markdown",
   "id": "f1261e95",
   "metadata": {
    "papermill": {
     "duration": 0.031658,
     "end_time": "2024-03-08T15:59:15.571920",
     "exception": false,
     "start_time": "2024-03-08T15:59:15.540262",
     "status": "completed"
    },
    "tags": []
   },
   "source": [
    "<a id=section6></a>\n",
    "\n",
    "-----------------------------------\n",
    "\n",
    "# Make Pipeline"
   ]
  },
  {
   "cell_type": "code",
   "execution_count": null,
   "id": "be971941",
   "metadata": {},
   "outputs": [],
   "source": []
  },
  {
   "cell_type": "code",
   "execution_count": 72,
   "id": "e13156b2",
   "metadata": {
    "execution": {
     "iopub.execute_input": "2024-03-08T15:59:15.639729Z",
     "iopub.status.busy": "2024-03-08T15:59:15.639340Z",
     "iopub.status.idle": "2024-03-08T15:59:15.651777Z",
     "shell.execute_reply": "2024-03-08T15:59:15.651019Z"
    },
    "papermill": {
     "duration": 0.049381,
     "end_time": "2024-03-08T15:59:15.653967",
     "exception": false,
     "start_time": "2024-03-08T15:59:15.604586",
     "status": "completed"
    },
    "tags": []
   },
   "outputs": [
    {
     "data": {
      "text/html": [
       "<div>\n",
       "<style scoped>\n",
       "    .dataframe tbody tr th:only-of-type {\n",
       "        vertical-align: middle;\n",
       "    }\n",
       "\n",
       "    .dataframe tbody tr th {\n",
       "        vertical-align: top;\n",
       "    }\n",
       "\n",
       "    .dataframe thead th {\n",
       "        text-align: right;\n",
       "    }\n",
       "</style>\n",
       "<table border=\"1\" class=\"dataframe\">\n",
       "  <thead>\n",
       "    <tr style=\"text-align: right;\">\n",
       "      <th></th>\n",
       "      <th>target</th>\n",
       "      <th>text</th>\n",
       "      <th>num_char</th>\n",
       "      <th>num_words</th>\n",
       "      <th>num_sentences</th>\n",
       "      <th>tranformed_text</th>\n",
       "    </tr>\n",
       "  </thead>\n",
       "  <tbody>\n",
       "    <tr>\n",
       "      <th>0</th>\n",
       "      <td>0</td>\n",
       "      <td>Go until jurong point, crazy.. Available only ...</td>\n",
       "      <td>111</td>\n",
       "      <td>24</td>\n",
       "      <td>2</td>\n",
       "      <td>go jurong point crazi avail bugi n great world...</td>\n",
       "    </tr>\n",
       "    <tr>\n",
       "      <th>1</th>\n",
       "      <td>0</td>\n",
       "      <td>Ok lar... Joking wif u oni...</td>\n",
       "      <td>29</td>\n",
       "      <td>8</td>\n",
       "      <td>2</td>\n",
       "      <td>ok lar joke wif u oni</td>\n",
       "    </tr>\n",
       "    <tr>\n",
       "      <th>2</th>\n",
       "      <td>1</td>\n",
       "      <td>Free entry in 2 a wkly comp to win FA Cup fina...</td>\n",
       "      <td>155</td>\n",
       "      <td>37</td>\n",
       "      <td>2</td>\n",
       "      <td>free entri 2 wkli comp win fa cup final tkt 21...</td>\n",
       "    </tr>\n",
       "    <tr>\n",
       "      <th>3</th>\n",
       "      <td>0</td>\n",
       "      <td>U dun say so early hor... U c already then say...</td>\n",
       "      <td>49</td>\n",
       "      <td>13</td>\n",
       "      <td>1</td>\n",
       "      <td>u dun say earli hor u c alreadi say</td>\n",
       "    </tr>\n",
       "    <tr>\n",
       "      <th>4</th>\n",
       "      <td>0</td>\n",
       "      <td>Nah I don't think he goes to usf, he lives aro...</td>\n",
       "      <td>61</td>\n",
       "      <td>15</td>\n",
       "      <td>1</td>\n",
       "      <td>nah think goe usf live around though</td>\n",
       "    </tr>\n",
       "    <tr>\n",
       "      <th>...</th>\n",
       "      <td>...</td>\n",
       "      <td>...</td>\n",
       "      <td>...</td>\n",
       "      <td>...</td>\n",
       "      <td>...</td>\n",
       "      <td>...</td>\n",
       "    </tr>\n",
       "    <tr>\n",
       "      <th>5164</th>\n",
       "      <td>1</td>\n",
       "      <td>This is the 2nd time we have tried 2 contact u...</td>\n",
       "      <td>161</td>\n",
       "      <td>35</td>\n",
       "      <td>4</td>\n",
       "      <td>2nd time tri 2 contact u pound prize 2 claim e...</td>\n",
       "    </tr>\n",
       "    <tr>\n",
       "      <th>5165</th>\n",
       "      <td>0</td>\n",
       "      <td>Will Ì_ b going to esplanade fr home?</td>\n",
       "      <td>37</td>\n",
       "      <td>9</td>\n",
       "      <td>1</td>\n",
       "      <td>b go esplanad fr home</td>\n",
       "    </tr>\n",
       "    <tr>\n",
       "      <th>5166</th>\n",
       "      <td>0</td>\n",
       "      <td>Pity, * was in mood for that. So...any other s...</td>\n",
       "      <td>57</td>\n",
       "      <td>15</td>\n",
       "      <td>2</td>\n",
       "      <td>piti mood suggest</td>\n",
       "    </tr>\n",
       "    <tr>\n",
       "      <th>5167</th>\n",
       "      <td>0</td>\n",
       "      <td>The guy did some bitching but I acted like i'd...</td>\n",
       "      <td>125</td>\n",
       "      <td>27</td>\n",
       "      <td>1</td>\n",
       "      <td>guy bitch act like interest buy someth els nex...</td>\n",
       "    </tr>\n",
       "    <tr>\n",
       "      <th>5168</th>\n",
       "      <td>0</td>\n",
       "      <td>Rofl. Its true to its name</td>\n",
       "      <td>26</td>\n",
       "      <td>7</td>\n",
       "      <td>2</td>\n",
       "      <td>rofl true name</td>\n",
       "    </tr>\n",
       "  </tbody>\n",
       "</table>\n",
       "<p>5169 rows × 6 columns</p>\n",
       "</div>"
      ],
      "text/plain": [
       "      target                                               text  num_char  \\\n",
       "0          0  Go until jurong point, crazy.. Available only ...       111   \n",
       "1          0                      Ok lar... Joking wif u oni...        29   \n",
       "2          1  Free entry in 2 a wkly comp to win FA Cup fina...       155   \n",
       "3          0  U dun say so early hor... U c already then say...        49   \n",
       "4          0  Nah I don't think he goes to usf, he lives aro...        61   \n",
       "...      ...                                                ...       ...   \n",
       "5164       1  This is the 2nd time we have tried 2 contact u...       161   \n",
       "5165       0              Will Ì_ b going to esplanade fr home?        37   \n",
       "5166       0  Pity, * was in mood for that. So...any other s...        57   \n",
       "5167       0  The guy did some bitching but I acted like i'd...       125   \n",
       "5168       0                         Rofl. Its true to its name        26   \n",
       "\n",
       "      num_words  num_sentences  \\\n",
       "0            24              2   \n",
       "1             8              2   \n",
       "2            37              2   \n",
       "3            13              1   \n",
       "4            15              1   \n",
       "...         ...            ...   \n",
       "5164         35              4   \n",
       "5165          9              1   \n",
       "5166         15              2   \n",
       "5167         27              1   \n",
       "5168          7              2   \n",
       "\n",
       "                                        tranformed_text  \n",
       "0     go jurong point crazi avail bugi n great world...  \n",
       "1                                 ok lar joke wif u oni  \n",
       "2     free entri 2 wkli comp win fa cup final tkt 21...  \n",
       "3                   u dun say earli hor u c alreadi say  \n",
       "4                  nah think goe usf live around though  \n",
       "...                                                 ...  \n",
       "5164  2nd time tri 2 contact u pound prize 2 claim e...  \n",
       "5165                              b go esplanad fr home  \n",
       "5166                                  piti mood suggest  \n",
       "5167  guy bitch act like interest buy someth els nex...  \n",
       "5168                                     rofl true name  \n",
       "\n",
       "[5169 rows x 6 columns]"
      ]
     },
     "execution_count": 72,
     "metadata": {},
     "output_type": "execute_result"
    }
   ],
   "source": [
    "#Data Preprocessing ---> Vectorization(tfidf with max features 3000) ----> model(multinomial navie bayes)\n",
    "df"
   ]
  },
  {
   "cell_type": "code",
   "execution_count": 73,
   "id": "0c349a62",
   "metadata": {
    "execution": {
     "iopub.execute_input": "2024-03-08T15:59:15.723048Z",
     "iopub.status.busy": "2024-03-08T15:59:15.722319Z",
     "iopub.status.idle": "2024-03-08T15:59:15.726737Z",
     "shell.execute_reply": "2024-03-08T15:59:15.725667Z"
    },
    "papermill": {
     "duration": 0.04149,
     "end_time": "2024-03-08T15:59:15.729058",
     "exception": false,
     "start_time": "2024-03-08T15:59:15.687568",
     "status": "completed"
    },
    "tags": []
   },
   "outputs": [],
   "source": [
    "X = df['tranformed_text']\n",
    "y = df['target']"
   ]
  },
  {
   "cell_type": "code",
   "execution_count": 74,
   "id": "4724ecc4",
   "metadata": {
    "execution": {
     "iopub.execute_input": "2024-03-08T15:59:15.798357Z",
     "iopub.status.busy": "2024-03-08T15:59:15.797971Z",
     "iopub.status.idle": "2024-03-08T15:59:16.039824Z",
     "shell.execute_reply": "2024-03-08T15:59:16.039007Z"
    },
    "papermill": {
     "duration": 0.279819,
     "end_time": "2024-03-08T15:59:16.042193",
     "exception": false,
     "start_time": "2024-03-08T15:59:15.762374",
     "status": "completed"
    },
    "tags": []
   },
   "outputs": [],
   "source": [
    "tfidf = TfidfVectorizer(max_features = 3000) #our model is giving best accuracy for 3000 features and the precision stays 1\n",
    "X_tf = tfidf.fit_transform(df['tranformed_text']).toarray() #we convert into array cause we get the output in sparse array\n",
    "X_train_tf, X_test_tf, y_train_tf, y_test_tf= train_test_split(X_tf, y, test_size =0.2, random_state = 2)"
   ]
  },
  {
   "cell_type": "code",
   "execution_count": 75,
   "id": "334d375c",
   "metadata": {
    "execution": {
     "iopub.execute_input": "2024-03-08T15:59:16.111086Z",
     "iopub.status.busy": "2024-03-08T15:59:16.110007Z",
     "iopub.status.idle": "2024-03-08T15:59:16.155610Z",
     "shell.execute_reply": "2024-03-08T15:59:16.154520Z"
    },
    "papermill": {
     "duration": 0.082429,
     "end_time": "2024-03-08T15:59:16.158441",
     "exception": false,
     "start_time": "2024-03-08T15:59:16.076012",
     "status": "completed"
    },
    "tags": []
   },
   "outputs": [
    {
     "data": {
      "text/html": [
       "<style>#sk-container-id-1 {\n",
       "  /* Definition of color scheme common for light and dark mode */\n",
       "  --sklearn-color-text: black;\n",
       "  --sklearn-color-line: gray;\n",
       "  /* Definition of color scheme for unfitted estimators */\n",
       "  --sklearn-color-unfitted-level-0: #fff5e6;\n",
       "  --sklearn-color-unfitted-level-1: #f6e4d2;\n",
       "  --sklearn-color-unfitted-level-2: #ffe0b3;\n",
       "  --sklearn-color-unfitted-level-3: chocolate;\n",
       "  /* Definition of color scheme for fitted estimators */\n",
       "  --sklearn-color-fitted-level-0: #f0f8ff;\n",
       "  --sklearn-color-fitted-level-1: #d4ebff;\n",
       "  --sklearn-color-fitted-level-2: #b3dbfd;\n",
       "  --sklearn-color-fitted-level-3: cornflowerblue;\n",
       "\n",
       "  /* Specific color for light theme */\n",
       "  --sklearn-color-text-on-default-background: var(--sg-text-color, var(--theme-code-foreground, var(--jp-content-font-color1, black)));\n",
       "  --sklearn-color-background: var(--sg-background-color, var(--theme-background, var(--jp-layout-color0, white)));\n",
       "  --sklearn-color-border-box: var(--sg-text-color, var(--theme-code-foreground, var(--jp-content-font-color1, black)));\n",
       "  --sklearn-color-icon: #696969;\n",
       "\n",
       "  @media (prefers-color-scheme: dark) {\n",
       "    /* Redefinition of color scheme for dark theme */\n",
       "    --sklearn-color-text-on-default-background: var(--sg-text-color, var(--theme-code-foreground, var(--jp-content-font-color1, white)));\n",
       "    --sklearn-color-background: var(--sg-background-color, var(--theme-background, var(--jp-layout-color0, #111)));\n",
       "    --sklearn-color-border-box: var(--sg-text-color, var(--theme-code-foreground, var(--jp-content-font-color1, white)));\n",
       "    --sklearn-color-icon: #878787;\n",
       "  }\n",
       "}\n",
       "\n",
       "#sk-container-id-1 {\n",
       "  color: var(--sklearn-color-text);\n",
       "}\n",
       "\n",
       "#sk-container-id-1 pre {\n",
       "  padding: 0;\n",
       "}\n",
       "\n",
       "#sk-container-id-1 input.sk-hidden--visually {\n",
       "  border: 0;\n",
       "  clip: rect(1px 1px 1px 1px);\n",
       "  clip: rect(1px, 1px, 1px, 1px);\n",
       "  height: 1px;\n",
       "  margin: -1px;\n",
       "  overflow: hidden;\n",
       "  padding: 0;\n",
       "  position: absolute;\n",
       "  width: 1px;\n",
       "}\n",
       "\n",
       "#sk-container-id-1 div.sk-dashed-wrapped {\n",
       "  border: 1px dashed var(--sklearn-color-line);\n",
       "  margin: 0 0.4em 0.5em 0.4em;\n",
       "  box-sizing: border-box;\n",
       "  padding-bottom: 0.4em;\n",
       "  background-color: var(--sklearn-color-background);\n",
       "}\n",
       "\n",
       "#sk-container-id-1 div.sk-container {\n",
       "  /* jupyter's `normalize.less` sets `[hidden] { display: none; }`\n",
       "     but bootstrap.min.css set `[hidden] { display: none !important; }`\n",
       "     so we also need the `!important` here to be able to override the\n",
       "     default hidden behavior on the sphinx rendered scikit-learn.org.\n",
       "     See: https://github.com/scikit-learn/scikit-learn/issues/21755 */\n",
       "  display: inline-block !important;\n",
       "  position: relative;\n",
       "}\n",
       "\n",
       "#sk-container-id-1 div.sk-text-repr-fallback {\n",
       "  display: none;\n",
       "}\n",
       "\n",
       "div.sk-parallel-item,\n",
       "div.sk-serial,\n",
       "div.sk-item {\n",
       "  /* draw centered vertical line to link estimators */\n",
       "  background-image: linear-gradient(var(--sklearn-color-text-on-default-background), var(--sklearn-color-text-on-default-background));\n",
       "  background-size: 2px 100%;\n",
       "  background-repeat: no-repeat;\n",
       "  background-position: center center;\n",
       "}\n",
       "\n",
       "/* Parallel-specific style estimator block */\n",
       "\n",
       "#sk-container-id-1 div.sk-parallel-item::after {\n",
       "  content: \"\";\n",
       "  width: 100%;\n",
       "  border-bottom: 2px solid var(--sklearn-color-text-on-default-background);\n",
       "  flex-grow: 1;\n",
       "}\n",
       "\n",
       "#sk-container-id-1 div.sk-parallel {\n",
       "  display: flex;\n",
       "  align-items: stretch;\n",
       "  justify-content: center;\n",
       "  background-color: var(--sklearn-color-background);\n",
       "  position: relative;\n",
       "}\n",
       "\n",
       "#sk-container-id-1 div.sk-parallel-item {\n",
       "  display: flex;\n",
       "  flex-direction: column;\n",
       "}\n",
       "\n",
       "#sk-container-id-1 div.sk-parallel-item:first-child::after {\n",
       "  align-self: flex-end;\n",
       "  width: 50%;\n",
       "}\n",
       "\n",
       "#sk-container-id-1 div.sk-parallel-item:last-child::after {\n",
       "  align-self: flex-start;\n",
       "  width: 50%;\n",
       "}\n",
       "\n",
       "#sk-container-id-1 div.sk-parallel-item:only-child::after {\n",
       "  width: 0;\n",
       "}\n",
       "\n",
       "/* Serial-specific style estimator block */\n",
       "\n",
       "#sk-container-id-1 div.sk-serial {\n",
       "  display: flex;\n",
       "  flex-direction: column;\n",
       "  align-items: center;\n",
       "  background-color: var(--sklearn-color-background);\n",
       "  padding-right: 1em;\n",
       "  padding-left: 1em;\n",
       "}\n",
       "\n",
       "\n",
       "/* Toggleable style: style used for estimator/Pipeline/ColumnTransformer box that is\n",
       "clickable and can be expanded/collapsed.\n",
       "- Pipeline and ColumnTransformer use this feature and define the default style\n",
       "- Estimators will overwrite some part of the style using the `sk-estimator` class\n",
       "*/\n",
       "\n",
       "/* Pipeline and ColumnTransformer style (default) */\n",
       "\n",
       "#sk-container-id-1 div.sk-toggleable {\n",
       "  /* Default theme specific background. It is overwritten whether we have a\n",
       "  specific estimator or a Pipeline/ColumnTransformer */\n",
       "  background-color: var(--sklearn-color-background);\n",
       "}\n",
       "\n",
       "/* Toggleable label */\n",
       "#sk-container-id-1 label.sk-toggleable__label {\n",
       "  cursor: pointer;\n",
       "  display: block;\n",
       "  width: 100%;\n",
       "  margin-bottom: 0;\n",
       "  padding: 0.5em;\n",
       "  box-sizing: border-box;\n",
       "  text-align: center;\n",
       "}\n",
       "\n",
       "#sk-container-id-1 label.sk-toggleable__label-arrow:before {\n",
       "  /* Arrow on the left of the label */\n",
       "  content: \"▸\";\n",
       "  float: left;\n",
       "  margin-right: 0.25em;\n",
       "  color: var(--sklearn-color-icon);\n",
       "}\n",
       "\n",
       "#sk-container-id-1 label.sk-toggleable__label-arrow:hover:before {\n",
       "  color: var(--sklearn-color-text);\n",
       "}\n",
       "\n",
       "/* Toggleable content - dropdown */\n",
       "\n",
       "#sk-container-id-1 div.sk-toggleable__content {\n",
       "  max-height: 0;\n",
       "  max-width: 0;\n",
       "  overflow: hidden;\n",
       "  text-align: left;\n",
       "  /* unfitted */\n",
       "  background-color: var(--sklearn-color-unfitted-level-0);\n",
       "}\n",
       "\n",
       "#sk-container-id-1 div.sk-toggleable__content.fitted {\n",
       "  /* fitted */\n",
       "  background-color: var(--sklearn-color-fitted-level-0);\n",
       "}\n",
       "\n",
       "#sk-container-id-1 div.sk-toggleable__content pre {\n",
       "  margin: 0.2em;\n",
       "  border-radius: 0.25em;\n",
       "  color: var(--sklearn-color-text);\n",
       "  /* unfitted */\n",
       "  background-color: var(--sklearn-color-unfitted-level-0);\n",
       "}\n",
       "\n",
       "#sk-container-id-1 div.sk-toggleable__content.fitted pre {\n",
       "  /* unfitted */\n",
       "  background-color: var(--sklearn-color-fitted-level-0);\n",
       "}\n",
       "\n",
       "#sk-container-id-1 input.sk-toggleable__control:checked~div.sk-toggleable__content {\n",
       "  /* Expand drop-down */\n",
       "  max-height: 200px;\n",
       "  max-width: 100%;\n",
       "  overflow: auto;\n",
       "}\n",
       "\n",
       "#sk-container-id-1 input.sk-toggleable__control:checked~label.sk-toggleable__label-arrow:before {\n",
       "  content: \"▾\";\n",
       "}\n",
       "\n",
       "/* Pipeline/ColumnTransformer-specific style */\n",
       "\n",
       "#sk-container-id-1 div.sk-label input.sk-toggleable__control:checked~label.sk-toggleable__label {\n",
       "  color: var(--sklearn-color-text);\n",
       "  background-color: var(--sklearn-color-unfitted-level-2);\n",
       "}\n",
       "\n",
       "#sk-container-id-1 div.sk-label.fitted input.sk-toggleable__control:checked~label.sk-toggleable__label {\n",
       "  background-color: var(--sklearn-color-fitted-level-2);\n",
       "}\n",
       "\n",
       "/* Estimator-specific style */\n",
       "\n",
       "/* Colorize estimator box */\n",
       "#sk-container-id-1 div.sk-estimator input.sk-toggleable__control:checked~label.sk-toggleable__label {\n",
       "  /* unfitted */\n",
       "  background-color: var(--sklearn-color-unfitted-level-2);\n",
       "}\n",
       "\n",
       "#sk-container-id-1 div.sk-estimator.fitted input.sk-toggleable__control:checked~label.sk-toggleable__label {\n",
       "  /* fitted */\n",
       "  background-color: var(--sklearn-color-fitted-level-2);\n",
       "}\n",
       "\n",
       "#sk-container-id-1 div.sk-label label.sk-toggleable__label,\n",
       "#sk-container-id-1 div.sk-label label {\n",
       "  /* The background is the default theme color */\n",
       "  color: var(--sklearn-color-text-on-default-background);\n",
       "}\n",
       "\n",
       "/* On hover, darken the color of the background */\n",
       "#sk-container-id-1 div.sk-label:hover label.sk-toggleable__label {\n",
       "  color: var(--sklearn-color-text);\n",
       "  background-color: var(--sklearn-color-unfitted-level-2);\n",
       "}\n",
       "\n",
       "/* Label box, darken color on hover, fitted */\n",
       "#sk-container-id-1 div.sk-label.fitted:hover label.sk-toggleable__label.fitted {\n",
       "  color: var(--sklearn-color-text);\n",
       "  background-color: var(--sklearn-color-fitted-level-2);\n",
       "}\n",
       "\n",
       "/* Estimator label */\n",
       "\n",
       "#sk-container-id-1 div.sk-label label {\n",
       "  font-family: monospace;\n",
       "  font-weight: bold;\n",
       "  display: inline-block;\n",
       "  line-height: 1.2em;\n",
       "}\n",
       "\n",
       "#sk-container-id-1 div.sk-label-container {\n",
       "  text-align: center;\n",
       "}\n",
       "\n",
       "/* Estimator-specific */\n",
       "#sk-container-id-1 div.sk-estimator {\n",
       "  font-family: monospace;\n",
       "  border: 1px dotted var(--sklearn-color-border-box);\n",
       "  border-radius: 0.25em;\n",
       "  box-sizing: border-box;\n",
       "  margin-bottom: 0.5em;\n",
       "  /* unfitted */\n",
       "  background-color: var(--sklearn-color-unfitted-level-0);\n",
       "}\n",
       "\n",
       "#sk-container-id-1 div.sk-estimator.fitted {\n",
       "  /* fitted */\n",
       "  background-color: var(--sklearn-color-fitted-level-0);\n",
       "}\n",
       "\n",
       "/* on hover */\n",
       "#sk-container-id-1 div.sk-estimator:hover {\n",
       "  /* unfitted */\n",
       "  background-color: var(--sklearn-color-unfitted-level-2);\n",
       "}\n",
       "\n",
       "#sk-container-id-1 div.sk-estimator.fitted:hover {\n",
       "  /* fitted */\n",
       "  background-color: var(--sklearn-color-fitted-level-2);\n",
       "}\n",
       "\n",
       "/* Specification for estimator info (e.g. \"i\" and \"?\") */\n",
       "\n",
       "/* Common style for \"i\" and \"?\" */\n",
       "\n",
       ".sk-estimator-doc-link,\n",
       "a:link.sk-estimator-doc-link,\n",
       "a:visited.sk-estimator-doc-link {\n",
       "  float: right;\n",
       "  font-size: smaller;\n",
       "  line-height: 1em;\n",
       "  font-family: monospace;\n",
       "  background-color: var(--sklearn-color-background);\n",
       "  border-radius: 1em;\n",
       "  height: 1em;\n",
       "  width: 1em;\n",
       "  text-decoration: none !important;\n",
       "  margin-left: 1ex;\n",
       "  /* unfitted */\n",
       "  border: var(--sklearn-color-unfitted-level-1) 1pt solid;\n",
       "  color: var(--sklearn-color-unfitted-level-1);\n",
       "}\n",
       "\n",
       ".sk-estimator-doc-link.fitted,\n",
       "a:link.sk-estimator-doc-link.fitted,\n",
       "a:visited.sk-estimator-doc-link.fitted {\n",
       "  /* fitted */\n",
       "  border: var(--sklearn-color-fitted-level-1) 1pt solid;\n",
       "  color: var(--sklearn-color-fitted-level-1);\n",
       "}\n",
       "\n",
       "/* On hover */\n",
       "div.sk-estimator:hover .sk-estimator-doc-link:hover,\n",
       ".sk-estimator-doc-link:hover,\n",
       "div.sk-label-container:hover .sk-estimator-doc-link:hover,\n",
       ".sk-estimator-doc-link:hover {\n",
       "  /* unfitted */\n",
       "  background-color: var(--sklearn-color-unfitted-level-3);\n",
       "  color: var(--sklearn-color-background);\n",
       "  text-decoration: none;\n",
       "}\n",
       "\n",
       "div.sk-estimator.fitted:hover .sk-estimator-doc-link.fitted:hover,\n",
       ".sk-estimator-doc-link.fitted:hover,\n",
       "div.sk-label-container:hover .sk-estimator-doc-link.fitted:hover,\n",
       ".sk-estimator-doc-link.fitted:hover {\n",
       "  /* fitted */\n",
       "  background-color: var(--sklearn-color-fitted-level-3);\n",
       "  color: var(--sklearn-color-background);\n",
       "  text-decoration: none;\n",
       "}\n",
       "\n",
       "/* Span, style for the box shown on hovering the info icon */\n",
       ".sk-estimator-doc-link span {\n",
       "  display: none;\n",
       "  z-index: 9999;\n",
       "  position: relative;\n",
       "  font-weight: normal;\n",
       "  right: .2ex;\n",
       "  padding: .5ex;\n",
       "  margin: .5ex;\n",
       "  width: min-content;\n",
       "  min-width: 20ex;\n",
       "  max-width: 50ex;\n",
       "  color: var(--sklearn-color-text);\n",
       "  box-shadow: 2pt 2pt 4pt #999;\n",
       "  /* unfitted */\n",
       "  background: var(--sklearn-color-unfitted-level-0);\n",
       "  border: .5pt solid var(--sklearn-color-unfitted-level-3);\n",
       "}\n",
       "\n",
       ".sk-estimator-doc-link.fitted span {\n",
       "  /* fitted */\n",
       "  background: var(--sklearn-color-fitted-level-0);\n",
       "  border: var(--sklearn-color-fitted-level-3);\n",
       "}\n",
       "\n",
       ".sk-estimator-doc-link:hover span {\n",
       "  display: block;\n",
       "}\n",
       "\n",
       "/* \"?\"-specific style due to the `<a>` HTML tag */\n",
       "\n",
       "#sk-container-id-1 a.estimator_doc_link {\n",
       "  float: right;\n",
       "  font-size: 1rem;\n",
       "  line-height: 1em;\n",
       "  font-family: monospace;\n",
       "  background-color: var(--sklearn-color-background);\n",
       "  border-radius: 1rem;\n",
       "  height: 1rem;\n",
       "  width: 1rem;\n",
       "  text-decoration: none;\n",
       "  /* unfitted */\n",
       "  color: var(--sklearn-color-unfitted-level-1);\n",
       "  border: var(--sklearn-color-unfitted-level-1) 1pt solid;\n",
       "}\n",
       "\n",
       "#sk-container-id-1 a.estimator_doc_link.fitted {\n",
       "  /* fitted */\n",
       "  border: var(--sklearn-color-fitted-level-1) 1pt solid;\n",
       "  color: var(--sklearn-color-fitted-level-1);\n",
       "}\n",
       "\n",
       "/* On hover */\n",
       "#sk-container-id-1 a.estimator_doc_link:hover {\n",
       "  /* unfitted */\n",
       "  background-color: var(--sklearn-color-unfitted-level-3);\n",
       "  color: var(--sklearn-color-background);\n",
       "  text-decoration: none;\n",
       "}\n",
       "\n",
       "#sk-container-id-1 a.estimator_doc_link.fitted:hover {\n",
       "  /* fitted */\n",
       "  background-color: var(--sklearn-color-fitted-level-3);\n",
       "}\n",
       "</style><div id=\"sk-container-id-1\" class=\"sk-top-container\"><div class=\"sk-text-repr-fallback\"><pre>MultinomialNB()</pre><b>In a Jupyter environment, please rerun this cell to show the HTML representation or trust the notebook. <br />On GitHub, the HTML representation is unable to render, please try loading this page with nbviewer.org.</b></div><div class=\"sk-container\" hidden><div class=\"sk-item\"><div class=\"sk-estimator fitted sk-toggleable\"><input class=\"sk-toggleable__control sk-hidden--visually\" id=\"sk-estimator-id-1\" type=\"checkbox\" checked><label for=\"sk-estimator-id-1\" class=\"sk-toggleable__label fitted sk-toggleable__label-arrow fitted\">&nbsp;&nbsp;MultinomialNB<a class=\"sk-estimator-doc-link fitted\" rel=\"noreferrer\" target=\"_blank\" href=\"https://scikit-learn.org/1.4/modules/generated/sklearn.naive_bayes.MultinomialNB.html\">?<span>Documentation for MultinomialNB</span></a><span class=\"sk-estimator-doc-link fitted\">i<span>Fitted</span></span></label><div class=\"sk-toggleable__content fitted\"><pre>MultinomialNB()</pre></div> </div></div></div></div>"
      ],
      "text/plain": [
       "MultinomialNB()"
      ]
     },
     "execution_count": 75,
     "metadata": {},
     "output_type": "execute_result"
    }
   ],
   "source": [
    "mnb = MultinomialNB()\n",
    "mnb.fit(X_train_tf, y_train_tf)"
   ]
  },
  {
   "cell_type": "code",
   "execution_count": 76,
   "id": "69311fed",
   "metadata": {
    "execution": {
     "iopub.execute_input": "2024-03-08T15:59:16.275674Z",
     "iopub.status.busy": "2024-03-08T15:59:16.275031Z",
     "iopub.status.idle": "2024-03-08T15:59:16.280649Z",
     "shell.execute_reply": "2024-03-08T15:59:16.279616Z"
    },
    "papermill": {
     "duration": 0.064765,
     "end_time": "2024-03-08T15:59:16.282924",
     "exception": false,
     "start_time": "2024-03-08T15:59:16.218159",
     "status": "completed"
    },
    "tags": []
   },
   "outputs": [],
   "source": [
    "def predict(X_pred):\n",
    "    X_pred = tranform_text(X_pred)\n",
    "    X_pred = [X_pred] \n",
    "    X_tf = tfidf.transform(X_pred).toarray()  # Use transform instead of fit_transform\n",
    "    predictions = mnb.predict(X_tf)\n",
    "    if predictions == 1:\n",
    "        print(\"The Message is Spam\")\n",
    "    else:\n",
    "        print(\"The Message is not spam\")"
   ]
  },
  {
   "cell_type": "code",
   "execution_count": 95,
   "id": "df330c23",
   "metadata": {
    "execution": {
     "iopub.execute_input": "2024-03-08T15:59:16.354092Z",
     "iopub.status.busy": "2024-03-08T15:59:16.353685Z",
     "iopub.status.idle": "2024-03-08T15:59:17.001059Z",
     "shell.execute_reply": "2024-03-08T15:59:16.999252Z"
    },
    "papermill": {
     "duration": 0.685572,
     "end_time": "2024-03-08T15:59:17.003030",
     "exception": true,
     "start_time": "2024-03-08T15:59:16.317458",
     "status": "failed"
    },
    "tags": []
   },
   "outputs": [
    {
     "name": "stdout",
     "output_type": "stream",
     "text": [
      "The Message is Spam\n"
     ]
    }
   ],
   "source": [
    "X_pred = 'This is the 2nd time we have tried 2 contact u. U have won the 750 Pound prize. 2 claim is easy, call 08712101358 NOW! Only 10p per min. BT-national-rate'\n",
    "predict(X_pred)"
   ]
  },
  {
   "cell_type": "markdown",
   "id": "e101660c",
   "metadata": {},
   "source": [
    "# Save model"
   ]
  },
  {
   "cell_type": "code",
   "execution_count": 96,
   "id": "035aa011",
   "metadata": {},
   "outputs": [
    {
     "data": {
      "text/plain": [
       "['model.pkl']"
      ]
     },
     "execution_count": 96,
     "metadata": {},
     "output_type": "execute_result"
    }
   ],
   "source": [
    "import joblib\n",
    "joblib.dump(mnb,\"model.pkl\")"
   ]
  }
 ],
 "metadata": {
  "kaggle": {
   "accelerator": "none",
   "dataSources": [
    {
     "datasetId": 483,
     "sourceId": 982,
     "sourceType": "datasetVersion"
    }
   ],
   "dockerImageVersionId": 30664,
   "isGpuEnabled": false,
   "isInternetEnabled": true,
   "language": "python",
   "sourceType": "notebook"
  },
  "kernelspec": {
   "display_name": "Python 3 (ipykernel)",
   "language": "python",
   "name": "python3"
  },
  "language_info": {
   "codemirror_mode": {
    "name": "ipython",
    "version": 3
   },
   "file_extension": ".py",
   "mimetype": "text/x-python",
   "name": "python",
   "nbconvert_exporter": "python",
   "pygments_lexer": "ipython3",
   "version": "3.11.5"
  },
  "papermill": {
   "default_parameters": {},
   "duration": 114.969451,
   "end_time": "2024-03-08T15:59:17.860950",
   "environment_variables": {},
   "exception": true,
   "input_path": "__notebook__.ipynb",
   "output_path": "__notebook__.ipynb",
   "parameters": {},
   "start_time": "2024-03-08T15:57:22.891499",
   "version": "2.5.0"
  }
 },
 "nbformat": 4,
 "nbformat_minor": 5
}
